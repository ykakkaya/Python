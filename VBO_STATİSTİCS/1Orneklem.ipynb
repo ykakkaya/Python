{
 "cells": [
  {
   "cell_type": "code",
   "execution_count": 11,
   "id": "c668aa08-36fe-40eb-a793-cbe0730cbd1c",
   "metadata": {},
   "outputs": [],
   "source": [
    "import numpy as np"
   ]
  },
  {
   "cell_type": "markdown",
   "id": "156cb750-6020-4b7b-b2ef-98ebe6af38d1",
   "metadata": {},
   "source": [
    "** bir ilçede 10000 kişi var bunların yaş ort. örneklemle tahmin etme"
   ]
  },
  {
   "cell_type": "code",
   "execution_count": 12,
   "id": "f1f634f0-6180-4fef-83a7-5451178b72b5",
   "metadata": {},
   "outputs": [],
   "source": [
    "populasyon=np.random.randint(0,80,10000)"
   ]
  },
  {
   "cell_type": "code",
   "execution_count": 13,
   "id": "458ff4c7-dc55-47a9-bee8-1104b0eed43b",
   "metadata": {},
   "outputs": [
    {
     "data": {
      "text/plain": [
       "array([38, 22, 66, 67, 62, 27, 62, 77, 48, 75])"
      ]
     },
     "execution_count": 13,
     "metadata": {},
     "output_type": "execute_result"
    }
   ],
   "source": [
    "populasyon[:10]"
   ]
  },
  {
   "cell_type": "markdown",
   "id": "ffe3e884-ac9d-4aac-979a-15db3eabc2b8",
   "metadata": {},
   "source": [
    "_örneklem çekme_"
   ]
  },
  {
   "cell_type": "code",
   "execution_count": 14,
   "id": "72acb03d-40e8-4ff2-b124-1c6cf058cf3b",
   "metadata": {},
   "outputs": [
    {
     "data": {
      "text/plain": [
       "array([19, 54, 66, 57, 25, 26, 33, 30,  1, 56])"
      ]
     },
     "execution_count": 14,
     "metadata": {},
     "output_type": "execute_result"
    }
   ],
   "source": [
    "np.random.seed(25)\n",
    "orneklem=np.random.choice(a=populasyon , size=100)\n",
    "orneklem[:10]"
   ]
  },
  {
   "cell_type": "code",
   "execution_count": 15,
   "id": "038aff4f-ce67-4846-9a11-f7ead8421b64",
   "metadata": {},
   "outputs": [
    {
     "data": {
      "text/plain": [
       "39.1828"
      ]
     },
     "execution_count": 15,
     "metadata": {},
     "output_type": "execute_result"
    }
   ],
   "source": [
    "populasyon.mean()"
   ]
  },
  {
   "cell_type": "code",
   "execution_count": 16,
   "id": "715d3698-6fd2-4569-80b3-bf76d1747bd9",
   "metadata": {},
   "outputs": [
    {
     "data": {
      "text/plain": [
       "35.74"
      ]
     },
     "execution_count": 16,
     "metadata": {},
     "output_type": "execute_result"
    }
   ],
   "source": [
    "orneklem.mean()"
   ]
  },
  {
   "cell_type": "markdown",
   "id": "3e93e027-8ac7-4638-9a58-74df1b5cd2bc",
   "metadata": {},
   "source": [
    "** her defasında populasyonumuzdan 10 örneklemi 10 defa çekip ortalamasını alırsak populasyon ort. daha da yaklaşırız"
   ]
  },
  {
   "cell_type": "code",
   "execution_count": 19,
   "id": "61dbb07e-adb2-43c7-a556-ea83f183bc2e",
   "metadata": {},
   "outputs": [],
   "source": [
    "np.random.seed(10)\n",
    "for i in range (0,10):\n",
    "    ornek=np.random.choice(a=populasyon,size=10)\n",
    "    list+=ornek.mean()\n",
    "    i+=1"
   ]
  },
  {
   "cell_type": "code",
   "execution_count": 20,
   "id": "40936088-6339-4804-bca1-3723066fec11",
   "metadata": {},
   "outputs": [
    {
     "data": {
      "text/plain": [
       "412.69999999999993"
      ]
     },
     "execution_count": 20,
     "metadata": {},
     "output_type": "execute_result"
    }
   ],
   "source": [
    "list"
   ]
  },
  {
   "cell_type": "code",
   "execution_count": 21,
   "id": "4c108723-5c1d-4e7b-8181-565c46f0e362",
   "metadata": {},
   "outputs": [
    {
     "data": {
      "text/plain": [
       "41.269999999999996"
      ]
     },
     "execution_count": 21,
     "metadata": {},
     "output_type": "execute_result"
    }
   ],
   "source": [
    "list/10"
   ]
  },
  {
   "cell_type": "code",
   "execution_count": 22,
   "id": "ec07978a-10f0-4be5-9a02-f48df774dd4a",
   "metadata": {},
   "outputs": [
    {
     "data": {
      "text/plain": [
       "39.1828"
      ]
     },
     "execution_count": 22,
     "metadata": {},
     "output_type": "execute_result"
    }
   ],
   "source": [
    "populasyon.mean()"
   ]
  },
  {
   "cell_type": "code",
   "execution_count": null,
   "id": "7ad7e8d4-31fb-4ff9-b7a0-273894439781",
   "metadata": {},
   "outputs": [],
   "source": []
  }
 ],
 "metadata": {
  "kernelspec": {
   "display_name": "Python 3 (ipykernel)",
   "language": "python",
   "name": "python3"
  },
  "language_info": {
   "codemirror_mode": {
    "name": "ipython",
    "version": 3
   },
   "file_extension": ".py",
   "mimetype": "text/x-python",
   "name": "python",
   "nbconvert_exporter": "python",
   "pygments_lexer": "ipython3",
   "version": "3.9.12"
  }
 },
 "nbformat": 4,
 "nbformat_minor": 5
}
