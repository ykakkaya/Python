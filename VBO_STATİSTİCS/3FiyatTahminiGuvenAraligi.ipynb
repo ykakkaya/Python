{
 "cells": [
  {
   "cell_type": "markdown",
   "id": "9071076c-febe-404c-aa64-9128f1866b13",
   "metadata": {},
   "source": [
    "# bir ürün var ve bu ürün için fiyat belirlemesi yapılacak\n",
    "* alıcılara bu ürün için ne kadar öderdiniz sorusu soruluyor\n",
    "* optimum fiyat ve esneklik bulunmak isteniyor\n",
    "* %95 güven aralığında fiyat tahmini yapacağız"
   ]
  },
  {
   "cell_type": "code",
   "execution_count": 1,
   "id": "4daf32c5-7182-4df8-a8ff-a751adfc0c5c",
   "metadata": {},
   "outputs": [],
   "source": [
    "import numpy as np"
   ]
  },
  {
   "cell_type": "code",
   "execution_count": 3,
   "id": "00e2f65d-faf8-4dcc-b913-3c80b558418c",
   "metadata": {},
   "outputs": [
    {
     "data": {
      "text/plain": [
       "array([ 43,  72,  44,  57, 108])"
      ]
     },
     "execution_count": 3,
     "metadata": {},
     "output_type": "execute_result"
    }
   ],
   "source": [
    "fiyat_teklif=np.random.randint(10,110,1000)\n",
    "fiyat_teklif[:5]"
   ]
  },
  {
   "cell_type": "code",
   "execution_count": 8,
   "id": "e6502329-a64a-480d-b57c-faf82857b8ce",
   "metadata": {},
   "outputs": [
    {
     "data": {
      "text/plain": [
       "59.197"
      ]
     },
     "execution_count": 8,
     "metadata": {},
     "output_type": "execute_result"
    }
   ],
   "source": [
    "ort=fiyat_teklif.mean()\n",
    "ort"
   ]
  },
  {
   "cell_type": "code",
   "execution_count": 9,
   "id": "67034acd-69f5-4077-b3ce-9ed7aa48d93d",
   "metadata": {},
   "outputs": [
    {
     "data": {
      "text/plain": [
       "29.162822068517304"
      ]
     },
     "execution_count": 9,
     "metadata": {},
     "output_type": "execute_result"
    }
   ],
   "source": [
    "ss=fiyat_teklif.std()\n",
    "ss"
   ]
  },
  {
   "cell_type": "markdown",
   "id": "3591814f-81a5-432d-a8a3-13eec537389e",
   "metadata": {},
   "source": [
    "# yeni bi kütüphane ekliyoruz"
   ]
  },
  {
   "cell_type": "code",
   "execution_count": 14,
   "id": "836d2e67-5149-4f20-a9c0-3ef6a4a4185f",
   "metadata": {},
   "outputs": [],
   "source": [
    "import statsmodels.stats.api as sms"
   ]
  },
  {
   "cell_type": "code",
   "execution_count": 15,
   "id": "8de9ea1b-3945-4f2e-a526-fd8eb984cbe0",
   "metadata": {},
   "outputs": [
    {
     "data": {
      "text/plain": [
       "(57.38640472003731, 61.00759527996269)"
      ]
     },
     "execution_count": 15,
     "metadata": {},
     "output_type": "execute_result"
    }
   ],
   "source": [
    "sms.DescrStatsW(fiyat_teklif).tconfint_mean()"
   ]
  },
  {
   "cell_type": "code",
   "execution_count": null,
   "id": "b0ff9a82-d3b1-4ab0-98df-3c3d9283bdd4",
   "metadata": {},
   "outputs": [],
   "source": []
  },
  {
   "cell_type": "code",
   "execution_count": null,
   "id": "fe26eec3-ebb5-4a45-a7ff-42aa1a3ab19d",
   "metadata": {},
   "outputs": [],
   "source": []
  },
  {
   "cell_type": "code",
   "execution_count": null,
   "id": "31ee2563-843e-4c3f-9919-161881305823",
   "metadata": {},
   "outputs": [],
   "source": []
  },
  {
   "cell_type": "code",
   "execution_count": null,
   "id": "414c6e7d-8c25-4991-895c-11bc083cc342",
   "metadata": {},
   "outputs": [],
   "source": []
  },
  {
   "cell_type": "code",
   "execution_count": null,
   "id": "67d48afd-52d2-428b-b174-51336df3f9ca",
   "metadata": {},
   "outputs": [],
   "source": []
  },
  {
   "cell_type": "code",
   "execution_count": null,
   "id": "90036c01-1e2c-4782-af7f-9d4078dfd962",
   "metadata": {},
   "outputs": [],
   "source": []
  }
 ],
 "metadata": {
  "kernelspec": {
   "display_name": "Python 3 (ipykernel)",
   "language": "python",
   "name": "python3"
  },
  "language_info": {
   "codemirror_mode": {
    "name": "ipython",
    "version": 3
   },
   "file_extension": ".py",
   "mimetype": "text/x-python",
   "name": "python",
   "nbconvert_exporter": "python",
   "pygments_lexer": "ipython3",
   "version": "3.9.12"
  }
 },
 "nbformat": 4,
 "nbformat_minor": 5
}
