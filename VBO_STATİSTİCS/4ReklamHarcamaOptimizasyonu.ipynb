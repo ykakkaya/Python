{
 "cells": [
  {
   "cell_type": "markdown",
   "id": "4d215a7b-639f-4d30-bebf-7d6b74bb803c",
   "metadata": {},
   "source": [
    "## binom dağılımı\n",
    "### Reklam Optimizasyonu \n",
    "* Bir şirket değişik mecralarda reklam veriyor.\n",
    "* reklamlara tıklanma geri dönüş oranları optimize edilmeye çalışılıyor\n",
    "* çeşitli senaryolara göre tıklanma oranları hesaplanmak isteniyor.\n",
    "* dağılım ve reklama tıklama olasılığı biliniyor(0,01)\n",
    "* reklamı 100 kişi gördüğünde 1-5-10 kez tıklama ihtimalleri nedir?"
   ]
  },
  {
   "cell_type": "code",
   "execution_count": 10,
   "id": "0092b387-d488-4079-84bb-04f81c8ac6ce",
   "metadata": {},
   "outputs": [],
   "source": [
    "import math"
   ]
  },
  {
   "cell_type": "code",
   "execution_count": 26,
   "id": "7a51e7e7-f6b9-4d03-9a79-e9bde42d231e",
   "metadata": {},
   "outputs": [
    {
     "data": {
      "text/plain": [
       "0.36972963764972644"
      ]
     },
     "execution_count": 26,
     "metadata": {},
     "output_type": "execute_result"
    }
   ],
   "source": [
    "math.comb(100,1)*0.01*((1-0.01)**99)"
   ]
  },
  {
   "cell_type": "code",
   "execution_count": 31,
   "id": "ad50d292-e298-4564-805b-bffdae614361",
   "metadata": {},
   "outputs": [],
   "source": [
    "def reklam(n,x,p):\n",
    "    return float(math.comb(n,x)*(p**x)*((1-p)**(n-x)))"
   ]
  },
  {
   "cell_type": "markdown",
   "id": "516759ea-1177-418e-91ec-3f07cdabcd87",
   "metadata": {},
   "source": [
    "* 1 tıklama için"
   ]
  },
  {
   "cell_type": "code",
   "execution_count": 32,
   "id": "e37752bc-fbae-4575-9a2e-f2635b07c7b1",
   "metadata": {},
   "outputs": [
    {
     "data": {
      "text/plain": [
       "0.36972963764972644"
      ]
     },
     "execution_count": 32,
     "metadata": {},
     "output_type": "execute_result"
    }
   ],
   "source": [
    "reklam(100,1,0.01)"
   ]
  },
  {
   "cell_type": "markdown",
   "id": "adb325ad-510f-4fb5-9837-a70a5bcf9a47",
   "metadata": {},
   "source": [
    "* 5 tıklama için"
   ]
  },
  {
   "cell_type": "code",
   "execution_count": 33,
   "id": "e1535dca-a2ed-48d8-ae44-bd427a713b6f",
   "metadata": {},
   "outputs": [
    {
     "data": {
      "text/plain": [
       "0.00289778712376148"
      ]
     },
     "execution_count": 33,
     "metadata": {},
     "output_type": "execute_result"
    }
   ],
   "source": [
    "reklam(100,5,0.01)"
   ]
  },
  {
   "cell_type": "markdown",
   "id": "db505032-42ff-4d75-bcf9-ba69308fbfdf",
   "metadata": {},
   "source": [
    "* 10 tıklama için"
   ]
  },
  {
   "cell_type": "code",
   "execution_count": 34,
   "id": "0a45b1cd-f757-4a38-8a50-8439f5a02a71",
   "metadata": {},
   "outputs": [
    {
     "data": {
      "text/plain": [
       "7.006035693977206e-08"
      ]
     },
     "execution_count": 34,
     "metadata": {},
     "output_type": "execute_result"
    }
   ],
   "source": [
    "reklam(100,10,0.01)"
   ]
  },
  {
   "cell_type": "markdown",
   "id": "f1696d47-78b4-4c65-a68b-2a322f71c38f",
   "metadata": {},
   "source": [
    "# ikinci yol"
   ]
  },
  {
   "cell_type": "code",
   "execution_count": 35,
   "id": "79ac34bc-e7f2-49f6-a988-7356acb18c00",
   "metadata": {},
   "outputs": [],
   "source": [
    "from scipy.stats import binom"
   ]
  },
  {
   "cell_type": "code",
   "execution_count": 40,
   "id": "791810c9-f48f-494f-89a0-37f46e51ec1f",
   "metadata": {},
   "outputs": [
    {
     "data": {
      "text/plain": [
       "0.36972963764972666"
      ]
     },
     "execution_count": 40,
     "metadata": {},
     "output_type": "execute_result"
    }
   ],
   "source": [
    "p=0.01\n",
    "n=100\n",
    "rv=binom(n,p)\n",
    "rv.pmf(1)"
   ]
  },
  {
   "cell_type": "code",
   "execution_count": 37,
   "id": "488e164d-3ca4-46c4-843f-f78b441ced15",
   "metadata": {},
   "outputs": [],
   "source": [
    "list=[1,5,10]"
   ]
  },
  {
   "cell_type": "code",
   "execution_count": 39,
   "id": "d169f2bf-e91d-4dc2-a0fb-1f45233a67c6",
   "metadata": {},
   "outputs": [
    {
     "name": "stdout",
     "output_type": "stream",
     "text": [
      "0.36972963764972666\n",
      "0.002897787123761478\n",
      "7.006035693977194e-08\n"
     ]
    }
   ],
   "source": [
    "for i in list:\n",
    "    print(rv.pmf(i))"
   ]
  },
  {
   "cell_type": "code",
   "execution_count": null,
   "id": "02efb46a-4f23-4db6-a808-c4c371badb7a",
   "metadata": {},
   "outputs": [],
   "source": []
  }
 ],
 "metadata": {
  "kernelspec": {
   "display_name": "Python 3 (ipykernel)",
   "language": "python",
   "name": "python3"
  },
  "language_info": {
   "codemirror_mode": {
    "name": "ipython",
    "version": 3
   },
   "file_extension": ".py",
   "mimetype": "text/x-python",
   "name": "python",
   "nbconvert_exporter": "python",
   "pygments_lexer": "ipython3",
   "version": "3.9.12"
  }
 },
 "nbformat": 4,
 "nbformat_minor": 5
}
