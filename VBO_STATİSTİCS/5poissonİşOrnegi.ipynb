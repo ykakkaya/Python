{
 "cells": [
  {
   "cell_type": "markdown",
   "id": "019f8b44-8f54-41ef-b170-3af17c886c4d",
   "metadata": {},
   "source": [
    "## bir üniversitede 5000 not girişinde 5 adet notun yanlış not girilme olasılığı nedir\n",
    "** ( lambda=0.2)"
   ]
  },
  {
   "cell_type": "code",
   "execution_count": 1,
   "id": "3ea9a228-1c95-40de-a614-f74cb0c6dd15",
   "metadata": {},
   "outputs": [],
   "source": [
    "import math"
   ]
  },
  {
   "cell_type": "code",
   "execution_count": 2,
   "id": "3229e40d-c34c-4681-91fe-17b7e58bd95c",
   "metadata": {},
   "outputs": [],
   "source": [
    "result= (((0.2)**5)* math.e**(-0.2))/ math.factorial(5)"
   ]
  },
  {
   "cell_type": "code",
   "execution_count": 3,
   "id": "994114da-853f-4285-b9ac-583de8c31661",
   "metadata": {},
   "outputs": [
    {
     "data": {
      "text/plain": [
       "2.183282008207952e-06"
      ]
     },
     "execution_count": 3,
     "metadata": {},
     "output_type": "execute_result"
    }
   ],
   "source": [
    "result"
   ]
  },
  {
   "cell_type": "markdown",
   "id": "a4609c6f-e0f5-4687-86aa-1619a1b8101f",
   "metadata": {},
   "source": [
    "# ilan girişi yapılan bir sitede hatalı ilan girişleri hesaplanmak isteniyor"
   ]
  },
  {
   "cell_type": "markdown",
   "id": "e3155a13-0e72-4486-a2e0-d38f1ef76a91",
   "metadata": {},
   "source": [
    "* Bir yıl süreyle ölçümler yapılıyor\n",
    "* Dağılım biliniyor(Poisson) ve ortalama hata sayısı ( lambda=0.1)\n",
    "* hiç hata olmama 3 hata olması ve 5 hata olması durumlarını hesaplayalım?"
   ]
  },
  {
   "cell_type": "code",
   "execution_count": 4,
   "id": "a9b3c41b-3eba-46b0-92f1-53b40b31785a",
   "metadata": {},
   "outputs": [],
   "source": [
    "def hataOranı(landa,beklenenHata):\n",
    "    print((((landa)**beklenenHata)* math.e**(-landa))/ math.factorial(beklenenHata))"
   ]
  },
  {
   "cell_type": "markdown",
   "id": "8fdc6804-4c96-4d46-aa6b-f745f50f2d03",
   "metadata": {},
   "source": [
    "### 0 hata yapılma oranı"
   ]
  },
  {
   "cell_type": "code",
   "execution_count": 14,
   "id": "7b0c285b-f161-4fec-90e3-3f9013dc5a3f",
   "metadata": {},
   "outputs": [
    {
     "name": "stdout",
     "output_type": "stream",
     "text": [
      "0.9048374180359595\n"
     ]
    }
   ],
   "source": [
    "hataOranı(0.1,0)"
   ]
  },
  {
   "cell_type": "markdown",
   "id": "4d4ff0e5-e5f1-4ac8-af72-8b2560c1bf2b",
   "metadata": {},
   "source": [
    "### 3 hata yapılma oranı"
   ]
  },
  {
   "cell_type": "code",
   "execution_count": 11,
   "id": "4697a6a3-8513-4af0-9e18-e80b66ebbe1b",
   "metadata": {},
   "outputs": [
    {
     "name": "stdout",
     "output_type": "stream",
     "text": [
      "0.00015080623633932663\n"
     ]
    }
   ],
   "source": [
    "hataOranı(0.1,3)"
   ]
  },
  {
   "cell_type": "code",
   "execution_count": 12,
   "id": "6e1bc182-db68-4166-927c-cc4d6a1d2740",
   "metadata": {},
   "outputs": [],
   "source": [
    "### 5 hata yapılma oranı"
   ]
  },
  {
   "cell_type": "code",
   "execution_count": 13,
   "id": "be4f8e7e-a6af-4cce-a47b-473acd23cbf2",
   "metadata": {},
   "outputs": [
    {
     "name": "stdout",
     "output_type": "stream",
     "text": [
      "7.540311816966331e-08\n"
     ]
    }
   ],
   "source": [
    "hataOranı(0.1,5)"
   ]
  },
  {
   "cell_type": "markdown",
   "id": "5c1a4f56-aa57-4cb5-b9d7-820c0938ee58",
   "metadata": {},
   "source": [
    "# ikinci yol"
   ]
  },
  {
   "cell_type": "code",
   "execution_count": 19,
   "id": "20b08c16-68ec-44a9-b60c-c1e0f52da53b",
   "metadata": {},
   "outputs": [],
   "source": [
    "from scipy.stats import poisson"
   ]
  },
  {
   "cell_type": "code",
   "execution_count": 20,
   "id": "1125e675-d5da-4027-9670-6c75b2130185",
   "metadata": {},
   "outputs": [],
   "source": [
    "lambda_= 0.1"
   ]
  },
  {
   "cell_type": "code",
   "execution_count": 21,
   "id": "1d2153de-8aef-4c87-8d78-03927f5a9774",
   "metadata": {},
   "outputs": [],
   "source": [
    "rv = poisson(mu = lambda_)"
   ]
  },
  {
   "cell_type": "code",
   "execution_count": 24,
   "id": "4ddc7147-12fd-47aa-9a51-16e7c342660a",
   "metadata": {},
   "outputs": [
    {
     "data": {
      "text/plain": [
       "0.9048374180359595"
      ]
     },
     "execution_count": 24,
     "metadata": {},
     "output_type": "execute_result"
    }
   ],
   "source": [
    "rv.pmf(0)"
   ]
  },
  {
   "cell_type": "code",
   "execution_count": 25,
   "id": "227fc692-6486-4b5a-8147-96ca3d7d5684",
   "metadata": {},
   "outputs": [
    {
     "data": {
      "text/plain": [
       "0.00015080623633932676"
      ]
     },
     "execution_count": 25,
     "metadata": {},
     "output_type": "execute_result"
    }
   ],
   "source": [
    "rv.pmf(3)"
   ]
  },
  {
   "cell_type": "code",
   "execution_count": 26,
   "id": "6cfbd688-c7ff-4003-af78-c9b6ea5f008c",
   "metadata": {},
   "outputs": [
    {
     "data": {
      "text/plain": [
       "7.54031181696634e-08"
      ]
     },
     "execution_count": 26,
     "metadata": {},
     "output_type": "execute_result"
    }
   ],
   "source": [
    "rv.pmf(5)"
   ]
  },
  {
   "cell_type": "code",
   "execution_count": null,
   "id": "94de5042-785b-42b5-891b-a1b229ffaaca",
   "metadata": {},
   "outputs": [],
   "source": []
  },
  {
   "cell_type": "code",
   "execution_count": null,
   "id": "79d2cb98-d642-431a-b1ba-754f0b7d08f2",
   "metadata": {},
   "outputs": [],
   "source": []
  }
 ],
 "metadata": {
  "kernelspec": {
   "display_name": "Python 3 (ipykernel)",
   "language": "python",
   "name": "python3"
  },
  "language_info": {
   "codemirror_mode": {
    "name": "ipython",
    "version": 3
   },
   "file_extension": ".py",
   "mimetype": "text/x-python",
   "name": "python",
   "nbconvert_exporter": "python",
   "pygments_lexer": "ipython3",
   "version": "3.9.12"
  }
 },
 "nbformat": 4,
 "nbformat_minor": 5
}
