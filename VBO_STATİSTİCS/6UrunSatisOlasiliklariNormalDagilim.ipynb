{
 "cells": [
  {
   "cell_type": "markdown",
   "id": "6b21b30a-2d52-42bf-96f5-ed53044911fe",
   "metadata": {},
   "source": [
    "# bir yatırım toplantı öncesi gelecek ay ile ilgili satışların belirli değerlerde gerçekleşme olasılığını bilmek istiyor"
   ]
  },
  {
   "cell_type": "markdown",
   "id": "f09bfd43-78bc-409a-9e3d-429c2e27dbd2",
   "metadata": {},
   "source": [
    "* Dağılımın normal dağılım olduğu biliniyor\n",
    "* aylık ortalama satış 80k standart sapma 5k\n",
    "* 90k dan fazla satış yapma olasılığı nedir?"
   ]
  },
  {
   "cell_type": "code",
   "execution_count": 1,
   "id": "fdab12de-4384-4ba6-90bb-b5996ae42f2b",
   "metadata": {},
   "outputs": [],
   "source": [
    "from scipy.stats import norm"
   ]
  },
  {
   "cell_type": "markdown",
   "id": "8ebfd402-de71-4b87-8c44-c91ec07d9094",
   "metadata": {},
   "source": [
    "### 90 dan fazla olması"
   ]
  },
  {
   "cell_type": "code",
   "execution_count": 8,
   "id": "6a4b83fe-eab6-4cb0-8f18-ce2c5921076f",
   "metadata": {},
   "outputs": [
    {
     "data": {
      "text/plain": [
       "0.02275013194817921"
      ]
     },
     "execution_count": 8,
     "metadata": {},
     "output_type": "execute_result"
    }
   ],
   "source": [
    "1-norm.cdf(90,80,5)"
   ]
  },
  {
   "cell_type": "markdown",
   "id": "c66fd8b4-d202-4c7e-b1fa-f02c4e5b1ded",
   "metadata": {},
   "source": [
    "### 70 den fazla olması"
   ]
  },
  {
   "cell_type": "code",
   "execution_count": 9,
   "id": "7c6d8eb8-208e-42ff-8a4f-d97050fc38e1",
   "metadata": {},
   "outputs": [
    {
     "data": {
      "text/plain": [
       "0.9772498680518208"
      ]
     },
     "execution_count": 9,
     "metadata": {},
     "output_type": "execute_result"
    }
   ],
   "source": [
    "1-norm.cdf(70,80,5)"
   ]
  },
  {
   "cell_type": "markdown",
   "id": "8cfdd841-33be-4cb7-92a1-c8725a502133",
   "metadata": {},
   "source": [
    "### 73 den az olması "
   ]
  },
  {
   "cell_type": "code",
   "execution_count": 10,
   "id": "ea239a2c-0ad3-4f42-b93e-8f22a0c0ef55",
   "metadata": {},
   "outputs": [
    {
     "data": {
      "text/plain": [
       "0.08075665923377107"
      ]
     },
     "execution_count": 10,
     "metadata": {},
     "output_type": "execute_result"
    }
   ],
   "source": [
    "norm.cdf(73,80,5)"
   ]
  },
  {
   "cell_type": "markdown",
   "id": "c1264972-a7e2-4778-ab7a-f670b8788fc7",
   "metadata": {},
   "source": [
    "### 85 ile 90 arası olması 1- 85 den küçük + 90 dan büyuk alan"
   ]
  },
  {
   "cell_type": "code",
   "execution_count": 11,
   "id": "99a9f24d-55b7-4d67-9ca7-cf77ac8cf37d",
   "metadata": {},
   "outputs": [
    {
     "data": {
      "text/plain": [
       "0.13590512198327787"
      ]
     },
     "execution_count": 11,
     "metadata": {},
     "output_type": "execute_result"
    }
   ],
   "source": [
    "1-(norm.cdf(85,80,5)+ (1-norm.cdf(90,80,5)))"
   ]
  },
  {
   "cell_type": "markdown",
   "id": "42036ccd-7314-4c6d-84ec-88dd64175a97",
   "metadata": {},
   "source": [
    "### 2. yolu 90 dan küçük alan- 85 den küçük alan"
   ]
  },
  {
   "cell_type": "code",
   "execution_count": 13,
   "id": "73dc031a-7819-4e22-b57b-001449802623",
   "metadata": {},
   "outputs": [
    {
     "data": {
      "text/plain": [
       "0.13590512198327787"
      ]
     },
     "execution_count": 13,
     "metadata": {},
     "output_type": "execute_result"
    }
   ],
   "source": [
    "norm.cdf(90,80,5)-norm.cdf(85,80,5)"
   ]
  },
  {
   "cell_type": "code",
   "execution_count": null,
   "id": "f6884a10-03bf-470b-a0c0-81b9bf11ca7f",
   "metadata": {},
   "outputs": [],
   "source": []
  }
 ],
 "metadata": {
  "kernelspec": {
   "display_name": "Python 3 (ipykernel)",
   "language": "python",
   "name": "python3"
  },
  "language_info": {
   "codemirror_mode": {
    "name": "ipython",
    "version": 3
   },
   "file_extension": ".py",
   "mimetype": "text/x-python",
   "name": "python",
   "nbconvert_exporter": "python",
   "pygments_lexer": "ipython3",
   "version": "3.9.12"
  }
 },
 "nbformat": 4,
 "nbformat_minor": 5
}
