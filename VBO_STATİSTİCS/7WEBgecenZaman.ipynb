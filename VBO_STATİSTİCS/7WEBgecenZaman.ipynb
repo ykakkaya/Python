{
 "cells": [
  {
   "cell_type": "markdown",
   "id": "46d7580e-c545-43b5-af2d-0ae1a8d213ea",
   "metadata": {},
   "source": [
    "# web sitesinde geçen zaman hesaplanmak isteniyor"
   ]
  },
  {
   "cell_type": "markdown",
   "id": "0a8831f6-1f84-40f9-8502-555d5e0f9d7c",
   "metadata": {},
   "source": [
    "## elimizdeki verilere göre web sitemizde gerçekten geçirilen ort. zaman 170 sn. mi."
   ]
  },
  {
   "cell_type": "code",
   "execution_count": 1,
   "id": "2095d59f-7cd0-4d41-82e5-ceedbdf09aea",
   "metadata": {},
   "outputs": [],
   "source": [
    "import numpy as np"
   ]
  },
  {
   "cell_type": "code",
   "execution_count": 2,
   "id": "ecddefc3-f4b2-44d1-82a3-4e280affde34",
   "metadata": {},
   "outputs": [],
   "source": [
    "olcumler = np.array([17, 160, 234, 149, 145, 107, 197, 75, 201, 225, 211, 119, \n",
    "              157, 145, 127, 244, 163, 114, 145,  65, 112, 185, 202, 146,\n",
    "              203, 224, 203, 114, 188, 156, 187, 154, 177, 95, 165, 50, 110, \n",
    "              216, 138, 151, 166, 135, 155, 84, 251, 173, 131, 207, 121, 120])"
   ]
  },
  {
   "cell_type": "code",
   "execution_count": 3,
   "id": "96b4b69e-5d2b-43ba-86c5-fc21af2416d6",
   "metadata": {},
   "outputs": [
    {
     "data": {
      "text/plain": [
       "array([ 17, 160, 234, 149, 145, 107, 197,  75, 201, 225])"
      ]
     },
     "execution_count": 3,
     "metadata": {},
     "output_type": "execute_result"
    }
   ],
   "source": [
    "olcumler[:10]"
   ]
  },
  {
   "cell_type": "code",
   "execution_count": 12,
   "id": "3e54aadc-2fa0-497e-8c65-cb8d5a3f7e7a",
   "metadata": {},
   "outputs": [],
   "source": [
    "import scipy.stats as stats"
   ]
  },
  {
   "cell_type": "code",
   "execution_count": 13,
   "id": "c8d20055-4e6d-4ca3-a89e-9c73b2e744be",
   "metadata": {},
   "outputs": [],
   "source": [
    "import pandas as pd"
   ]
  },
  {
   "cell_type": "code",
   "execution_count": 14,
   "id": "6c824513-bdbe-4fea-b4e4-f41f41a2287f",
   "metadata": {},
   "outputs": [],
   "source": [
    "df=pd.DataFrame(olcumler)"
   ]
  },
  {
   "cell_type": "code",
   "execution_count": 15,
   "id": "a5b38833-2e52-4147-b3a0-b2fb30417326",
   "metadata": {},
   "outputs": [
    {
     "data": {
      "text/html": [
       "<div>\n",
       "<style scoped>\n",
       "    .dataframe tbody tr th:only-of-type {\n",
       "        vertical-align: middle;\n",
       "    }\n",
       "\n",
       "    .dataframe tbody tr th {\n",
       "        vertical-align: top;\n",
       "    }\n",
       "\n",
       "    .dataframe thead th {\n",
       "        text-align: right;\n",
       "    }\n",
       "</style>\n",
       "<table border=\"1\" class=\"dataframe\">\n",
       "  <thead>\n",
       "    <tr style=\"text-align: right;\">\n",
       "      <th></th>\n",
       "      <th>0</th>\n",
       "    </tr>\n",
       "  </thead>\n",
       "  <tbody>\n",
       "    <tr>\n",
       "      <th>0</th>\n",
       "      <td>17</td>\n",
       "    </tr>\n",
       "    <tr>\n",
       "      <th>1</th>\n",
       "      <td>160</td>\n",
       "    </tr>\n",
       "    <tr>\n",
       "      <th>2</th>\n",
       "      <td>234</td>\n",
       "    </tr>\n",
       "    <tr>\n",
       "      <th>3</th>\n",
       "      <td>149</td>\n",
       "    </tr>\n",
       "    <tr>\n",
       "      <th>4</th>\n",
       "      <td>145</td>\n",
       "    </tr>\n",
       "  </tbody>\n",
       "</table>\n",
       "</div>"
      ],
      "text/plain": [
       "     0\n",
       "0   17\n",
       "1  160\n",
       "2  234\n",
       "3  149\n",
       "4  145"
      ]
     },
     "execution_count": 15,
     "metadata": {},
     "output_type": "execute_result"
    }
   ],
   "source": [
    "df.head()"
   ]
  },
  {
   "cell_type": "code",
   "execution_count": 16,
   "id": "007c0d69-a62c-48c8-9059-6be7e64133d4",
   "metadata": {},
   "outputs": [
    {
     "data": {
      "text/html": [
       "<div>\n",
       "<style scoped>\n",
       "    .dataframe tbody tr th:only-of-type {\n",
       "        vertical-align: middle;\n",
       "    }\n",
       "\n",
       "    .dataframe tbody tr th {\n",
       "        vertical-align: top;\n",
       "    }\n",
       "\n",
       "    .dataframe thead th {\n",
       "        text-align: right;\n",
       "    }\n",
       "</style>\n",
       "<table border=\"1\" class=\"dataframe\">\n",
       "  <thead>\n",
       "    <tr style=\"text-align: right;\">\n",
       "      <th></th>\n",
       "      <th>count</th>\n",
       "      <th>mean</th>\n",
       "      <th>std</th>\n",
       "      <th>min</th>\n",
       "      <th>25%</th>\n",
       "      <th>50%</th>\n",
       "      <th>75%</th>\n",
       "      <th>max</th>\n",
       "    </tr>\n",
       "  </thead>\n",
       "  <tbody>\n",
       "    <tr>\n",
       "      <th>0</th>\n",
       "      <td>50.0</td>\n",
       "      <td>154.38</td>\n",
       "      <td>50.774367</td>\n",
       "      <td>17.0</td>\n",
       "      <td>120.25</td>\n",
       "      <td>154.5</td>\n",
       "      <td>194.75</td>\n",
       "      <td>251.0</td>\n",
       "    </tr>\n",
       "  </tbody>\n",
       "</table>\n",
       "</div>"
      ],
      "text/plain": [
       "   count    mean        std   min     25%    50%     75%    max\n",
       "0   50.0  154.38  50.774367  17.0  120.25  154.5  194.75  251.0"
      ]
     },
     "execution_count": 16,
     "metadata": {},
     "output_type": "execute_result"
    }
   ],
   "source": [
    "df.describe().T"
   ]
  },
  {
   "cell_type": "code",
   "execution_count": 19,
   "id": "fcd76e1b-7d87-42a3-a253-4be64e315ca3",
   "metadata": {},
   "outputs": [
    {
     "data": {
      "text/plain": [
       "DescribeResult(nobs=50, minmax=(17, 251), mean=154.38, variance=2578.0363265306123, skewness=-0.32398897278694483, kurtosis=-0.05849823498415985)"
      ]
     },
     "execution_count": 19,
     "metadata": {},
     "output_type": "execute_result"
    }
   ],
   "source": [
    "stats.describe(olcumler)"
   ]
  },
  {
   "cell_type": "markdown",
   "id": "32200494-b589-4ebe-b807-bb2099e2d62a",
   "metadata": {},
   "source": [
    "# normallik varsayımı incelemesi yapmalıyız"
   ]
  },
  {
   "cell_type": "markdown",
   "id": "c3706238-4252-4243-ad63-1f3d31d8f003",
   "metadata": {},
   "source": [
    "## histogram ve qqplot ile gözle normallik incelemesi"
   ]
  },
  {
   "cell_type": "code",
   "execution_count": 23,
   "id": "45e9bbb1-f2f5-46e1-a32d-e59c2b1a93e5",
   "metadata": {},
   "outputs": [
    {
     "data": {
      "text/plain": [
       "<AxesSubplot:ylabel='Frequency'>"
      ]
     },
     "execution_count": 23,
     "metadata": {},
     "output_type": "execute_result"
    },
    {
     "data": {
      "image/png": "[encoded data removed]",
      "text/plain": [
       "<Figure size 432x288 with 1 Axes>"
      ]
     },
     "metadata": {
      "needs_background": "light"
     },
     "output_type": "display_data"
    }
   ],
   "source": [
    "df.plot.hist()"
   ]
  },
  {
   "cell_type": "code",
   "execution_count": 25,
   "id": "78593f69-fb5d-456f-86f8-8df34314518d",
   "metadata": {},
   "outputs": [],
   "source": [
    "import seaborn as sns"
   ]
  },
  {
   "cell_type": "code",
   "execution_count": 27,
   "id": "d62e2027-36ec-4dd6-9737-d465582a8b6d",
   "metadata": {},
   "outputs": [
    {
     "name": "stderr",
     "output_type": "stream",
     "text": [
      "C:\\Users\\Lenovo\\anaconda3\\lib\\site-packages\\seaborn\\distributions.py:2619: FutureWarning: `distplot` is a deprecated function and will be removed in a future version. Please adapt your code to use either `displot` (a figure-level function with similar flexibility) or `histplot` (an axes-level function for histograms).\n",
      "  warnings.warn(msg, FutureWarning)\n"
     ]
    },
    {
     "data": {
      "text/plain": [
       "<AxesSubplot:ylabel='Density'>"
      ]
     },
     "execution_count": 27,
     "metadata": {},
     "output_type": "execute_result"
    },
    {
     "data": {
      "image/png": "[encoded data removed]",
      "text/plain": [
       "<Figure size 432x288 with 1 Axes>"
      ]
     },
     "metadata": {
      "needs_background": "light"
     },
     "output_type": "display_data"
    }
   ],
   "source": [
    "sns.distplot(df)"
   ]
  },
  {
   "cell_type": "code",
   "execution_count": 28,
   "id": "0b23766f-d668-410a-ba0d-f2deb988efc6",
   "metadata": {},
   "outputs": [
    {
     "data": {
      "image/png": "[encoded data removed]",
      "text/plain": [
       "<Figure size 432x288 with 1 Axes>"
      ]
     },
     "metadata": {
      "needs_background": "light"
     },
     "output_type": "display_data"
    }
   ],
   "source": [
    "#qqplot\n",
    "import pylab\n",
    "stats.probplot(olcumler, dist=\"norm\", plot=pylab)\n",
    "pylab.show()"
   ]
  },
  {
   "cell_type": "markdown",
   "id": "534e5bca-8139-4cbb-8e34-0bc1885a02dc",
   "metadata": {},
   "source": [
    "## Shapiro-Wilks Testi ile normallik incelemesi"
   ]
  },
  {
   "cell_type": "markdown",
   "id": "ce7b5bcf-c8ec-416e-bc0d-3955e63fce20",
   "metadata": {},
   "source": [
    "H0: Örnek dağılımı ile teorik normal dağılım arasında istatistiksel olarak anlamlı bir farklılık yoktur\n",
    "\n",
    "H1: ... fark vardır"
   ]
  },
  {
   "cell_type": "code",
   "execution_count": 30,
   "id": "528b7e73-ddab-4b71-b522-4f179ee90fb8",
   "metadata": {},
   "outputs": [],
   "source": [
    "from scipy.stats import shapiro"
   ]
  },
  {
   "cell_type": "code",
   "execution_count": 31,
   "id": "4199d1a7-a5b1-47b9-bcb1-a4e2b3cba452",
   "metadata": {},
   "outputs": [
    {
     "data": {
      "text/plain": [
       "ShapiroResult(statistic=0.9853105545043945, pvalue=0.7848747968673706)"
      ]
     },
     "execution_count": 31,
     "metadata": {},
     "output_type": "execute_result"
    }
   ],
   "source": [
    "shapiro(df)"
   ]
  },
  {
   "cell_type": "code",
   "execution_count": 32,
   "id": "e1d3f5dd-7d1d-4a13-aff3-e8df596a60d2",
   "metadata": {},
   "outputs": [
    {
     "name": "stdout",
     "output_type": "stream",
     "text": [
      "T Hesap İstatistiği: 0.9853105545043945\n",
      "Hesaplanan P-value: 0.7848747968673706\n"
     ]
    }
   ],
   "source": [
    "print(\"T Hesap İstatistiği: \" + str(shapiro(df)[0]))\n",
    "print(\"Hesaplanan P-value: \" + str(shapiro(df)[1]))"
   ]
  },
  {
   "cell_type": "markdown",
   "id": "184deca4-51e2-4ff7-92fe-e7f1aafbf560",
   "metadata": {},
   "source": [
    "### hesaplanan p-value değeri 0.5 den büyük olduğu için h0 hipotezimizi reddedemiyoruz"
   ]
  },
  {
   "cell_type": "markdown",
   "id": "a487499a-1ab0-4a53-a2d5-8a4a2a8b8759",
   "metadata": {},
   "source": [
    "## hipotez testinin yapılması"
   ]
  },
  {
   "cell_type": "code",
   "execution_count": 33,
   "id": "4e0b1c69-3883-4afb-be9b-ecc941ffc9e7",
   "metadata": {},
   "outputs": [
    {
     "data": {
      "text/plain": [
       "Ttest_1sampResult(statistic=array([-2.1753118]), pvalue=array([0.03446042]))"
      ]
     },
     "execution_count": 33,
     "metadata": {},
     "output_type": "execute_result"
    }
   ],
   "source": [
    "stats.ttest_1samp(df,popmean=170)"
   ]
  },
  {
   "cell_type": "markdown",
   "id": "9750d36b-78b4-46c6-8943-e055c3c1f383",
   "metadata": {},
   "source": [
    "H0: Web sitemizde geçirilen ortalama süre 170'tir\n",
    "\n",
    "H1: .. değildir\n",
    "\n",
    "hesaplanan p-value değeri 0.5 den küçük olduğu için h0 hipotezimizi reddedilir."
   ]
  },
  {
   "cell_type": "markdown",
   "id": "96d9bdba-1684-49e6-a1dc-d6deeb607f4f",
   "metadata": {},
   "source": [
    "## _YANİ WEBSİTESİNDE GEÇİRİLEN SÜRE 170 DEĞİLDİR_"
   ]
  },
  {
   "cell_type": "code",
   "execution_count": null,
   "id": "5296502c-81b3-4ca4-859e-ee4581af497c",
   "metadata": {},
   "outputs": [],
   "source": []
  }
 ],
 "metadata": {
  "kernelspec": {
   "display_name": "Python 3 (ipykernel)",
   "language": "python",
   "name": "python3"
  },
  "language_info": {
   "codemirror_mode": {
    "name": "ipython",
    "version": 3
   },
   "file_extension": ".py",
   "mimetype": "text/x-python",
   "name": "python",
   "nbconvert_exporter": "python",
   "pygments_lexer": "ipython3",
   "version": "3.9.12"
  }
 },
 "nbformat": 4,
 "nbformat_minor": 5
}
