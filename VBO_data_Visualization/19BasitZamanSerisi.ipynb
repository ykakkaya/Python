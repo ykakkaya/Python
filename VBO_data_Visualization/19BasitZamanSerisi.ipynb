{
 "cells": [
  {
   "cell_type": "code",
   "execution_count": 2,
   "id": "2ab512ef-768f-4f12-bbd5-4b360973ac16",
   "metadata": {},
   "outputs": [
    {
     "name": "stdout",
     "output_type": "stream",
     "text": [
      "Collecting pandas_datareader\n",
      "  Downloading pandas_datareader-0.10.0-py3-none-any.whl (109 kB)\n",
      "Requirement already satisfied: pandas>=0.23 in c:\\users\\lenovo\\anaconda3\\lib\\site-packages (from pandas_datareader) (1.4.2)\n",
      "Requirement already satisfied: requests>=2.19.0 in c:\\users\\lenovo\\anaconda3\\lib\\site-packages (from pandas_datareader) (2.27.1)\n",
      "Requirement already satisfied: lxml in c:\\users\\lenovo\\anaconda3\\lib\\site-packages (from pandas_datareader) (4.8.0)\n",
      "Requirement already satisfied: pytz>=2020.1 in c:\\users\\lenovo\\anaconda3\\lib\\site-packages (from pandas>=0.23->pandas_datareader) (2021.3)\n",
      "Requirement already satisfied: numpy>=1.18.5 in c:\\users\\lenovo\\anaconda3\\lib\\site-packages (from pandas>=0.23->pandas_datareader) (1.21.5)\n",
      "Requirement already satisfied: python-dateutil>=2.8.1 in c:\\users\\lenovo\\anaconda3\\lib\\site-packages (from pandas>=0.23->pandas_datareader) (2.8.2)\n",
      "Requirement already satisfied: six>=1.5 in c:\\users\\lenovo\\anaconda3\\lib\\site-packages (from python-dateutil>=2.8.1->pandas>=0.23->pandas_datareader) (1.16.0)\n",
      "Requirement already satisfied: charset-normalizer~=2.0.0 in c:\\users\\lenovo\\anaconda3\\lib\\site-packages (from requests>=2.19.0->pandas_datareader) (2.0.4)\n",
      "Requirement already satisfied: certifi>=2017.4.17 in c:\\users\\lenovo\\anaconda3\\lib\\site-packages (from requests>=2.19.0->pandas_datareader) (2021.10.8)\n",
      "Requirement already satisfied: idna<4,>=2.5 in c:\\users\\lenovo\\anaconda3\\lib\\site-packages (from requests>=2.19.0->pandas_datareader) (3.3)\n",
      "Requirement already satisfied: urllib3<1.27,>=1.21.1 in c:\\users\\lenovo\\anaconda3\\lib\\site-packages (from requests>=2.19.0->pandas_datareader) (1.26.9)\n",
      "Installing collected packages: pandas-datareader\n",
      "Successfully installed pandas-datareader-0.10.0\n"
     ]
    }
   ],
   "source": [
    "!pip install pandas_datareader\n",
    "import pandas_datareader as pr"
   ]
  },
  {
   "cell_type": "code",
   "execution_count": 15,
   "id": "dc5fda5c-13f6-41de-b9de-aeaeceae9075",
   "metadata": {},
   "outputs": [],
   "source": [
    "df=pr.get_data_yahoo(\"AAPL\",start=\"2014-01-01\",end=\"2018-01-01\")"
   ]
  },
  {
   "cell_type": "code",
   "execution_count": 16,
   "id": "9de70d97-38d7-40b8-bb1c-71c2c24eae1a",
   "metadata": {},
   "outputs": [
    {
     "data": {
      "text/html": [
       "<div>\n",
       "<style scoped>\n",
       "    .dataframe tbody tr th:only-of-type {\n",
       "        vertical-align: middle;\n",
       "    }\n",
       "\n",
       "    .dataframe tbody tr th {\n",
       "        vertical-align: top;\n",
       "    }\n",
       "\n",
       "    .dataframe thead th {\n",
       "        text-align: right;\n",
       "    }\n",
       "</style>\n",
       "<table border=\"1\" class=\"dataframe\">\n",
       "  <thead>\n",
       "    <tr style=\"text-align: right;\">\n",
       "      <th></th>\n",
       "      <th>High</th>\n",
       "      <th>Low</th>\n",
       "      <th>Open</th>\n",
       "      <th>Close</th>\n",
       "      <th>Volume</th>\n",
       "      <th>Adj Close</th>\n",
       "    </tr>\n",
       "    <tr>\n",
       "      <th>Date</th>\n",
       "      <th></th>\n",
       "      <th></th>\n",
       "      <th></th>\n",
       "      <th></th>\n",
       "      <th></th>\n",
       "      <th></th>\n",
       "    </tr>\n",
       "  </thead>\n",
       "  <tbody>\n",
       "    <tr>\n",
       "      <th>2014-01-02</th>\n",
       "      <td>19.893929</td>\n",
       "      <td>19.715000</td>\n",
       "      <td>19.845715</td>\n",
       "      <td>19.754642</td>\n",
       "      <td>234684800.0</td>\n",
       "      <td>17.444418</td>\n",
       "    </tr>\n",
       "    <tr>\n",
       "      <th>2014-01-03</th>\n",
       "      <td>19.775000</td>\n",
       "      <td>19.301071</td>\n",
       "      <td>19.745001</td>\n",
       "      <td>19.320715</td>\n",
       "      <td>392467600.0</td>\n",
       "      <td>17.061239</td>\n",
       "    </tr>\n",
       "    <tr>\n",
       "      <th>2014-01-06</th>\n",
       "      <td>19.528570</td>\n",
       "      <td>19.057142</td>\n",
       "      <td>19.194643</td>\n",
       "      <td>19.426071</td>\n",
       "      <td>412610800.0</td>\n",
       "      <td>17.154272</td>\n",
       "    </tr>\n",
       "    <tr>\n",
       "      <th>2014-01-07</th>\n",
       "      <td>19.498571</td>\n",
       "      <td>19.211430</td>\n",
       "      <td>19.440001</td>\n",
       "      <td>19.287144</td>\n",
       "      <td>317209200.0</td>\n",
       "      <td>17.031595</td>\n",
       "    </tr>\n",
       "    <tr>\n",
       "      <th>2014-01-08</th>\n",
       "      <td>19.484285</td>\n",
       "      <td>19.238930</td>\n",
       "      <td>19.243214</td>\n",
       "      <td>19.409286</td>\n",
       "      <td>258529600.0</td>\n",
       "      <td>17.139454</td>\n",
       "    </tr>\n",
       "  </tbody>\n",
       "</table>\n",
       "</div>"
      ],
      "text/plain": [
       "                 High        Low       Open      Close       Volume  Adj Close\n",
       "Date                                                                          \n",
       "2014-01-02  19.893929  19.715000  19.845715  19.754642  234684800.0  17.444418\n",
       "2014-01-03  19.775000  19.301071  19.745001  19.320715  392467600.0  17.061239\n",
       "2014-01-06  19.528570  19.057142  19.194643  19.426071  412610800.0  17.154272\n",
       "2014-01-07  19.498571  19.211430  19.440001  19.287144  317209200.0  17.031595\n",
       "2014-01-08  19.484285  19.238930  19.243214  19.409286  258529600.0  17.139454"
      ]
     },
     "execution_count": 16,
     "metadata": {},
     "output_type": "execute_result"
    }
   ],
   "source": [
    "df.head()"
   ]
  },
  {
   "cell_type": "code",
   "execution_count": 17,
   "id": "16f4ce99-53c9-49e1-8405-6fe99339c272",
   "metadata": {},
   "outputs": [
    {
     "name": "stdout",
     "output_type": "stream",
     "text": [
      "<class 'pandas.core.frame.DataFrame'>\n",
      "DatetimeIndex: 1007 entries, 2014-01-02 to 2017-12-29\n",
      "Data columns (total 6 columns):\n",
      " #   Column     Non-Null Count  Dtype  \n",
      "---  ------     --------------  -----  \n",
      " 0   High       1007 non-null   float64\n",
      " 1   Low        1007 non-null   float64\n",
      " 2   Open       1007 non-null   float64\n",
      " 3   Close      1007 non-null   float64\n",
      " 4   Volume     1007 non-null   float64\n",
      " 5   Adj Close  1007 non-null   float64\n",
      "dtypes: float64(6)\n",
      "memory usage: 55.1 KB\n"
     ]
    }
   ],
   "source": [
    "df.info()"
   ]
  },
  {
   "cell_type": "code",
   "execution_count": 18,
   "id": "d84db337-cf17-4a6c-be59-2b1f80d9fe67",
   "metadata": {},
   "outputs": [
    {
     "data": {
      "text/plain": [
       "<AxesSubplot:xlabel='Date'>"
      ]
     },
     "execution_count": 18,
     "metadata": {},
     "output_type": "execute_result"
    },
    {
     "data": {
      "image/png": "[encoded data removed]",
      "text/plain": [
       "<Figure size 432x288 with 1 Axes>"
      ]
     },
     "metadata": {
      "needs_background": "light"
     },
     "output_type": "display_data"
    }
   ],
   "source": [
    "df[\"Close\"].plot()"
   ]
  },
  {
   "cell_type": "code",
   "execution_count": null,
   "id": "47268f71-a039-4a96-b267-e1f990731a26",
   "metadata": {},
   "outputs": [],
   "source": []
  },
  {
   "cell_type": "code",
   "execution_count": null,
   "id": "aaa944f0-53be-43d6-b20c-33537a5cead8",
   "metadata": {},
   "outputs": [],
   "source": []
  },
  {
   "cell_type": "code",
   "execution_count": null,
   "id": "8716e57d-cea7-4217-983a-9217f8ecdc4e",
   "metadata": {},
   "outputs": [],
   "source": []
  },
  {
   "cell_type": "code",
   "execution_count": null,
   "id": "497fbf9b-871c-4727-b524-6ca2b2445b3c",
   "metadata": {},
   "outputs": [],
   "source": []
  }
 ],
 "metadata": {
  "kernelspec": {
   "display_name": "Python 3 (ipykernel)",
   "language": "python",
   "name": "python3"
  },
  "language_info": {
   "codemirror_mode": {
    "name": "ipython",
    "version": 3
   },
   "file_extension": ".py",
   "mimetype": "text/x-python",
   "name": "python",
   "nbconvert_exporter": "python",
   "pygments_lexer": "ipython3",
   "version": "3.9.12"
  }
 },
 "nbformat": 4,
 "nbformat_minor": 5
}
