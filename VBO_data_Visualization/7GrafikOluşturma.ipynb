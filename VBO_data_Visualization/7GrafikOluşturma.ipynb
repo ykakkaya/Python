{
 "cells": [
  {
   "cell_type": "code",
   "execution_count": 6,
   "id": "86660250-afb0-4269-aa70-4eb68f9655fd",
   "metadata": {},
   "outputs": [],
   "source": [
    "import seaborn as sns\n",
    "import pandas as pd\n",
    "diamonds=sns.load_dataset(\"diamonds\")\n",
    "df=diamonds.copy()"
   ]
  },
  {
   "cell_type": "code",
   "execution_count": 7,
   "id": "2c00ccfc-2296-4ef1-8315-fbaf59267f2e",
   "metadata": {},
   "outputs": [],
   "source": [
    "from pandas.api.types import CategoricalDtype"
   ]
  },
  {
   "cell_type": "code",
   "execution_count": 8,
   "id": "70a7d19e-2ebe-49cc-b344-74474f05c192",
   "metadata": {},
   "outputs": [],
   "source": [
    "cut_category=[\"Fair\",\"Good\",\"Very Good\",\"Ideal\",\"Premium\"]"
   ]
  },
  {
   "cell_type": "code",
   "execution_count": 9,
   "id": "e8b4f9f0-19d2-47fb-9015-dde96bcd8824",
   "metadata": {},
   "outputs": [],
   "source": [
    "df.cut= df.cut.astype(CategoricalDtype(categories=cut_category , ordered=True))"
   ]
  },
  {
   "cell_type": "code",
   "execution_count": 10,
   "id": "57941fbe-b5c7-4331-adc5-2d7e4f54bf32",
   "metadata": {},
   "outputs": [],
   "source": [
    "clarity_category=[\"I1\",\"SI2\",\"SI1\",\"VS2\",\"VS1\",\"VVS2\",\"VVS1\",\"IF\"]"
   ]
  },
  {
   "cell_type": "code",
   "execution_count": 11,
   "id": "cf726b45-a25c-4207-9596-7b6959ede76b",
   "metadata": {},
   "outputs": [],
   "source": [
    "df.clarity=df.clarity.astype(CategoricalDtype(categories=clarity_category , ordered=True))"
   ]
  },
  {
   "cell_type": "code",
   "execution_count": 12,
   "id": "05635390-49b6-4771-88db-352a29ed9231",
   "metadata": {},
   "outputs": [],
   "source": [
    "color_category=[\"J\",\"I\",\"H\",\"G\",\"F\",\"E\",\"D\"]"
   ]
  },
  {
   "cell_type": "code",
   "execution_count": 13,
   "id": "32ffca3a-9916-4484-a9f4-cd463b2af092",
   "metadata": {},
   "outputs": [],
   "source": [
    "df.color=df.color.astype(CategoricalDtype(categories=color_category,ordered=True))"
   ]
  },
  {
   "cell_type": "code",
   "execution_count": 14,
   "id": "d347a4f1-a60e-4361-a188-cc63211ab3e8",
   "metadata": {},
   "outputs": [
    {
     "data": {
      "text/plain": [
       "0    Ideal\n",
       "Name: cut, dtype: category\n",
       "Categories (5, object): ['Fair' < 'Good' < 'Very Good' < 'Ideal' < 'Premium']"
      ]
     },
     "execution_count": 14,
     "metadata": {},
     "output_type": "execute_result"
    }
   ],
   "source": [
    "df.cut.head(1)"
   ]
  },
  {
   "cell_type": "code",
   "execution_count": 15,
   "id": "c49c834b-f549-49d0-9289-0985b59b32b2",
   "metadata": {},
   "outputs": [
    {
     "data": {
      "text/plain": [
       "0    SI2\n",
       "Name: clarity, dtype: category\n",
       "Categories (8, object): ['I1' < 'SI2' < 'SI1' < 'VS2' < 'VS1' < 'VVS2' < 'VVS1' < 'IF']"
      ]
     },
     "execution_count": 15,
     "metadata": {},
     "output_type": "execute_result"
    }
   ],
   "source": [
    "df.clarity.head(1)"
   ]
  },
  {
   "cell_type": "code",
   "execution_count": 16,
   "id": "b471c8ef-efc0-43f4-9d4b-90c54138b963",
   "metadata": {},
   "outputs": [
    {
     "data": {
      "text/plain": [
       "0    E\n",
       "Name: color, dtype: category\n",
       "Categories (7, object): ['J' < 'I' < 'H' < 'G' < 'F' < 'E' < 'D']"
      ]
     },
     "execution_count": 16,
     "metadata": {},
     "output_type": "execute_result"
    }
   ],
   "source": [
    "df.color.head(1)"
   ]
  },
  {
   "cell_type": "code",
   "execution_count": 21,
   "id": "dc2c9e37-792c-419a-879d-a27832d75aa0",
   "metadata": {},
   "outputs": [
    {
     "data": {
      "text/plain": [
       "Ideal        21551\n",
       "Premium      13791\n",
       "Very Good    12082\n",
       "Good          4906\n",
       "Fair          1610\n",
       "Name: cut, dtype: int64"
      ]
     },
     "execution_count": 21,
     "metadata": {},
     "output_type": "execute_result"
    }
   ],
   "source": [
    "df[\"cut\"].value_counts()"
   ]
  },
  {
   "cell_type": "markdown",
   "id": "2ccc1880-509b-4339-a206-98d0c26f83ea",
   "metadata": {},
   "source": [
    "# PANDAS ARACILIĞI İLE GÖRSELLEŞTİRME"
   ]
  },
  {
   "cell_type": "code",
   "execution_count": 29,
   "id": "bfe76987-18f5-4e6e-8b8f-dd1bec72c673",
   "metadata": {},
   "outputs": [
    {
     "data": {
      "image/png": "[encoded data removed]",
      "text/plain": [
       "<Figure size 432x288 with 1 Axes>"
      ]
     },
     "metadata": {
      "needs_background": "light"
     },
     "output_type": "display_data"
    }
   ],
   "source": [
    "(df[\"cut\"]\n",
    " .value_counts()\n",
    " .plot.barh()\n",
    " .set_title(\"CUT DEĞİŞKENİ SINIF FREKANS DAĞILIMI\"));"
   ]
  },
  {
   "cell_type": "code",
   "execution_count": 30,
   "id": "209fec63-c9e4-4a24-8415-094e710983ee",
   "metadata": {},
   "outputs": [
    {
     "data": {
      "image/png": "[encoded data removed]",
      "text/plain": [
       "<Figure size 432x288 with 1 Axes>"
      ]
     },
     "metadata": {
      "needs_background": "light"
     },
     "output_type": "display_data"
    }
   ],
   "source": [
    "(df[\"clarity\"]\n",
    " .value_counts()\n",
    " .plot.barh()\n",
    " .set_title(\"CLARITY DEĞİŞKENİ SINIF FREKANS DAĞILIMI\"));"
   ]
  },
  {
   "cell_type": "code",
   "execution_count": 31,
   "id": "13daa89a-1c29-490b-bb3d-0746951dc286",
   "metadata": {},
   "outputs": [
    {
     "data": {
      "image/png": "[encoded data removed]",
      "text/plain": [
       "<Figure size 432x288 with 1 Axes>"
      ]
     },
     "metadata": {
      "needs_background": "light"
     },
     "output_type": "display_data"
    }
   ],
   "source": [
    "(df[\"color\"]\n",
    " .value_counts()\n",
    " .plot.barh()\n",
    " .set_title(\"COLOR DEĞİŞKENİ SINIF FREKANS DAĞILIMI\"));"
   ]
  },
  {
   "cell_type": "markdown",
   "id": "9b46a362-6838-4f64-aa5c-c42a6425d2ee",
   "metadata": {},
   "source": [
    "# SEABORN İLE GRAFİK OLUŞTURMA"
   ]
  },
  {
   "cell_type": "code",
   "execution_count": 32,
   "id": "79c5ea13-adab-4c24-9d42-244e3041383f",
   "metadata": {},
   "outputs": [
    {
     "data": {
      "text/plain": [
       "<AxesSubplot:xlabel='cut'>"
      ]
     },
     "execution_count": 32,
     "metadata": {},
     "output_type": "execute_result"
    },
    {
     "data": {
      "image/png": "[encoded data removed]",
      "text/plain": [
       "<Figure size 432x288 with 1 Axes>"
      ]
     },
     "metadata": {
      "needs_background": "light"
     },
     "output_type": "display_data"
    }
   ],
   "source": [
    "sns.barplot(x=\"cut\",y=df.cut.index, data=df)"
   ]
  },
  {
   "cell_type": "code",
   "execution_count": 33,
   "id": "91411f11-83a0-4b55-ad73-9ee7357eb967",
   "metadata": {},
   "outputs": [
    {
     "data": {
      "text/plain": [
       "<AxesSubplot:ylabel='clarity'>"
      ]
     },
     "execution_count": 33,
     "metadata": {},
     "output_type": "execute_result"
    },
    {
     "data": {
      "image/png": "[encoded data removed]",
      "text/plain": [
       "<Figure size 432x288 with 1 Axes>"
      ]
     },
     "metadata": {
      "needs_background": "light"
     },
     "output_type": "display_data"
    }
   ],
   "source": [
    "sns.barplot(x=df.clarity.index,y=\"clarity\", data=df)"
   ]
  },
  {
   "cell_type": "code",
   "execution_count": 34,
   "id": "5ef58090-222c-4d68-9f24-7f0eb0f81a5a",
   "metadata": {},
   "outputs": [
    {
     "data": {
      "text/plain": [
       "<AxesSubplot:xlabel='color'>"
      ]
     },
     "execution_count": 34,
     "metadata": {},
     "output_type": "execute_result"
    },
    {
     "data": {
      "image/png": "[encoded data removed]",
      "text/plain": [
       "<Figure size 432x288 with 1 Axes>"
      ]
     },
     "metadata": {
      "needs_background": "light"
     },
     "output_type": "display_data"
    }
   ],
   "source": [
    "sns.barplot(x=\"color\",y=df.color.index,data=df)"
   ]
  },
  {
   "cell_type": "code",
   "execution_count": null,
   "id": "5591c247-0264-4258-80f3-f1d016d21052",
   "metadata": {},
   "outputs": [],
   "source": []
  }
 ],
 "metadata": {
  "kernelspec": {
   "display_name": "Python 3 (ipykernel)",
   "language": "python",
   "name": "python3"
  },
  "language_info": {
   "codemirror_mode": {
    "name": "ipython",
    "version": 3
   },
   "file_extension": ".py",
   "mimetype": "text/x-python",
   "name": "python",
   "nbconvert_exporter": "python",
   "pygments_lexer": "ipython3",
   "version": "3.9.12"
  }
 },
 "nbformat": 4,
 "nbformat_minor": 5
}
