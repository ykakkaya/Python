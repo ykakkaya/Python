{
 "cells": [
  {
   "cell_type": "code",
   "execution_count": 1,
   "id": "3367eb99-a1bf-4202-a2a6-396c17fa139e",
   "metadata": {},
   "outputs": [],
   "source": [
    "import numpy as np"
   ]
  },
  {
   "cell_type": "markdown",
   "id": "61191070-3149-44a2-be12-ad603ed032e6",
   "metadata": {},
   "source": [
    "#  bir numpy arrayini slicing yaptık ve alt array üzerinde yaptığımız değişiklikler ana array ıde etkiledi"
   ]
  },
  {
   "cell_type": "code",
   "execution_count": 21,
   "id": "24d5a5a2-85bf-4b24-bb29-8e2d1dbc980a",
   "metadata": {},
   "outputs": [
    {
     "data": {
      "text/plain": [
       "array([[8, 3, 3, 4, 1],\n",
       "       [9, 8, 3, 7, 8],\n",
       "       [5, 5, 8, 2, 5],\n",
       "       [4, 1, 3, 7, 1],\n",
       "       [4, 4, 7, 8, 4]])"
      ]
     },
     "execution_count": 21,
     "metadata": {},
     "output_type": "execute_result"
    }
   ],
   "source": [
    "a=np.random.randint(1,10,(5,5))\n",
    "a"
   ]
  },
  {
   "cell_type": "code",
   "execution_count": 22,
   "id": "c20e3473-428e-48c0-ae62-d6832c72c7c4",
   "metadata": {},
   "outputs": [
    {
     "data": {
      "text/plain": [
       "array([[3, 3],\n",
       "       [8, 3],\n",
       "       [5, 8]])"
      ]
     },
     "execution_count": 22,
     "metadata": {},
     "output_type": "execute_result"
    }
   ],
   "source": [
    "sub_a=a[0:3,1:3]\n",
    "sub_a"
   ]
  },
  {
   "cell_type": "code",
   "execution_count": 28,
   "id": "fd29e542-4057-4c03-b8da-6bf4277ce97c",
   "metadata": {},
   "outputs": [
    {
     "data": {
      "text/plain": [
       "array([[11111,     3],\n",
       "       [    8,     3],\n",
       "       [    5, 44444]])"
      ]
     },
     "execution_count": 28,
     "metadata": {},
     "output_type": "execute_result"
    }
   ],
   "source": [
    "sub_a[2,1]=44444\n",
    "sub_a[0,0]=11111\n",
    "sub_a"
   ]
  },
  {
   "cell_type": "code",
   "execution_count": 29,
   "id": "37b49454-57dc-455c-8374-02887ebb118e",
   "metadata": {},
   "outputs": [
    {
     "data": {
      "text/plain": [
       "array([[    8, 11111,     3,     4,     1],\n",
       "       [    9,     8,     3,     7,     8],\n",
       "       [    5,     5, 44444,     2,     5],\n",
       "       [    4,     1,     3,     7,     1],\n",
       "       [    4,     4,     7,     8,     4]])"
      ]
     },
     "execution_count": 29,
     "metadata": {},
     "output_type": "execute_result"
    }
   ],
   "source": [
    "a"
   ]
  },
  {
   "cell_type": "markdown",
   "id": "029f1a85-4b2c-4706-b746-49dfda320dd0",
   "metadata": {},
   "source": [
    "## copy() metodunu kullanarak ana array ın islemlerden etkilenmesini önleriz"
   ]
  },
  {
   "cell_type": "code",
   "execution_count": 31,
   "id": "1a98bc71-ff39-4408-9f8c-08a8998e404e",
   "metadata": {},
   "outputs": [
    {
     "data": {
      "text/plain": [
       "array([[8, 8, 9, 3, 2],\n",
       "       [2, 4, 3, 9, 1],\n",
       "       [5, 4, 5, 7, 4],\n",
       "       [4, 7, 2, 7, 7],\n",
       "       [1, 9, 6, 2, 9]])"
      ]
     },
     "execution_count": 31,
     "metadata": {},
     "output_type": "execute_result"
    }
   ],
   "source": [
    "b=np.random.randint(1,10,(5,5))\n",
    "b"
   ]
  },
  {
   "cell_type": "code",
   "execution_count": 33,
   "id": "b550653c-6b8b-43c7-a95c-22c5c2028299",
   "metadata": {},
   "outputs": [
    {
     "data": {
      "text/plain": [
       "array([[8, 9],\n",
       "       [4, 3],\n",
       "       [4, 5]])"
      ]
     },
     "execution_count": 33,
     "metadata": {},
     "output_type": "execute_result"
    }
   ],
   "source": [
    "sub_b=b[0:3,1:3].copy()\n",
    "sub_b"
   ]
  },
  {
   "cell_type": "code",
   "execution_count": 34,
   "id": "8c9d9508-91fd-439e-a872-18e9c9404ef8",
   "metadata": {},
   "outputs": [
    {
     "data": {
      "text/plain": [
       "array([[   8, 9999],\n",
       "       [8888,    3],\n",
       "       [   4,    5]])"
      ]
     },
     "execution_count": 34,
     "metadata": {},
     "output_type": "execute_result"
    }
   ],
   "source": [
    "sub_b[0,1]=9999\n",
    "sub_b[1,0]=8888\n",
    "sub_b"
   ]
  },
  {
   "cell_type": "code",
   "execution_count": 36,
   "id": "7d0c8747-eeb6-427c-af5d-625ef7773498",
   "metadata": {},
   "outputs": [
    {
     "data": {
      "text/plain": [
       "array([[   24, 29997],\n",
       "       [26664,     9],\n",
       "       [   12,    15]])"
      ]
     },
     "execution_count": 36,
     "metadata": {},
     "output_type": "execute_result"
    }
   ],
   "source": [
    "sub_b=sub_b*3\n",
    "sub_b"
   ]
  },
  {
   "cell_type": "code",
   "execution_count": 37,
   "id": "5d5dbecd-70bb-42f0-872c-70eb71fcaa20",
   "metadata": {},
   "outputs": [
    {
     "data": {
      "text/plain": [
       "array([[8, 8, 9, 3, 2],\n",
       "       [2, 4, 3, 9, 1],\n",
       "       [5, 4, 5, 7, 4],\n",
       "       [4, 7, 2, 7, 7],\n",
       "       [1, 9, 6, 2, 9]])"
      ]
     },
     "execution_count": 37,
     "metadata": {},
     "output_type": "execute_result"
    }
   ],
   "source": [
    "b"
   ]
  },
  {
   "cell_type": "markdown",
   "id": "013fe75b-4e51-413e-8c87-d0271afc321e",
   "metadata": {},
   "source": [
    "### ana array görüldüğü gibi değişikliklerden etkilenmedi ilk halini aldı"
   ]
  },
  {
   "cell_type": "code",
   "execution_count": null,
   "id": "7e423e3b-aba3-4d45-a007-7e9f3f3901a9",
   "metadata": {},
   "outputs": [],
   "source": []
  }
 ],
 "metadata": {
  "kernelspec": {
   "display_name": "Python 3 (ipykernel)",
   "language": "python",
   "name": "python3"
  },
  "language_info": {
   "codemirror_mode": {
    "name": "ipython",
    "version": 3
   },
   "file_extension": ".py",
   "mimetype": "text/x-python",
   "name": "python",
   "nbconvert_exporter": "python",
   "pygments_lexer": "ipython3",
   "version": "3.9.12"
  }
 },
 "nbformat": 4,
 "nbformat_minor": 5
}
