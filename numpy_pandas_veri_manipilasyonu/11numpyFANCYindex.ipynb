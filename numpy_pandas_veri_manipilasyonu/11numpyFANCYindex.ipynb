{
 "cells": [
  {
   "cell_type": "code",
   "execution_count": 1,
   "id": "62f522bb-7a75-46f2-85c5-e46c156ee6f5",
   "metadata": {},
   "outputs": [],
   "source": [
    "import numpy as np"
   ]
  },
  {
   "cell_type": "code",
   "execution_count": 2,
   "id": "f8dea02f-c2d3-4fc0-9164-2763e50dbbff",
   "metadata": {},
   "outputs": [
    {
     "data": {
      "text/plain": [
       "array([ 1,  4,  7, 10, 13, 16, 19, 22, 25, 28])"
      ]
     },
     "execution_count": 2,
     "metadata": {},
     "output_type": "execute_result"
    }
   ],
   "source": [
    "a=np.arange(1,30,3)\n",
    "a"
   ]
  },
  {
   "cell_type": "code",
   "execution_count": 6,
   "id": "82d3d125-90f9-480c-aae8-c9f0173b999e",
   "metadata": {},
   "outputs": [
    {
     "data": {
      "text/plain": [
       "array([ 4, 10, 16])"
      ]
     },
     "execution_count": 6,
     "metadata": {},
     "output_type": "execute_result"
    }
   ],
   "source": [
    "istenen=[1,3,5]\n",
    "a[istenen]"
   ]
  },
  {
   "cell_type": "markdown",
   "id": "d9a0d0bb-dfc9-45e1-a3ae-6b8c624aa6b9",
   "metadata": {},
   "source": [
    "### çok boyutlu array da fancy index uygulaması"
   ]
  },
  {
   "cell_type": "code",
   "execution_count": 7,
   "id": "dd8ac8eb-7663-4560-b2a4-688b8ee5ce53",
   "metadata": {},
   "outputs": [
    {
     "data": {
      "text/plain": [
       "array([[ 7, 21, 14, 20, 38],\n",
       "       [12, 14, 22,  3, 13],\n",
       "       [42,  3, 24, 30, 12]])"
      ]
     },
     "execution_count": 7,
     "metadata": {},
     "output_type": "execute_result"
    }
   ],
   "source": [
    "b=np.random.randint(1,45,(3,5))\n",
    "b"
   ]
  },
  {
   "cell_type": "code",
   "execution_count": 18,
   "id": "c66f8a63-f2ad-4122-8420-3e8be817742f",
   "metadata": {},
   "outputs": [
    {
     "data": {
      "text/plain": [
       "array([14, 12])"
      ]
     },
     "execution_count": 18,
     "metadata": {},
     "output_type": "execute_result"
    }
   ],
   "source": [
    "satir=np.array([1,2])\n",
    "sutun=np.array([1,4])\n",
    "b[satir,sutun]"
   ]
  },
  {
   "cell_type": "code",
   "execution_count": 25,
   "id": "5d96992c-1094-4c42-95c2-85ae4e2c58e9",
   "metadata": {},
   "outputs": [
    {
     "data": {
      "text/plain": [
       "array([[0, 1, 2],\n",
       "       [3, 4, 5],\n",
       "       [6, 7, 8]])"
      ]
     },
     "execution_count": 25,
     "metadata": {},
     "output_type": "execute_result"
    }
   ],
   "source": [
    "k=np.arange(0,9).reshape(3,3)\n",
    "m"
   ]
  },
  {
   "cell_type": "markdown",
   "id": "494d22b0-dc0a-4640-b183-36ea44e84248",
   "metadata": {},
   "source": [
    "####  k[:,[1,2]] (fancy index) ile k[:,1:3] (normal index leme) aynı anlama gelir"
   ]
  },
  {
   "cell_type": "code",
   "execution_count": 27,
   "id": "c2d08f69-7fe4-4337-b6ae-08affddf4736",
   "metadata": {},
   "outputs": [
    {
     "data": {
      "text/plain": [
       "array([[1, 2],\n",
       "       [4, 5],\n",
       "       [7, 8]])"
      ]
     },
     "execution_count": 27,
     "metadata": {},
     "output_type": "execute_result"
    }
   ],
   "source": [
    "k[:,[1,2]]"
   ]
  },
  {
   "cell_type": "code",
   "execution_count": 28,
   "id": "4109b45f-4f5d-48db-a460-5f647e396dd9",
   "metadata": {},
   "outputs": [
    {
     "data": {
      "text/plain": [
       "array([[1, 2],\n",
       "       [4, 5],\n",
       "       [7, 8]])"
      ]
     },
     "execution_count": 28,
     "metadata": {},
     "output_type": "execute_result"
    }
   ],
   "source": [
    "k[:,1:3]"
   ]
  },
  {
   "cell_type": "code",
   "execution_count": null,
   "id": "173c2f99-45ce-469b-84a4-2924066d3eea",
   "metadata": {},
   "outputs": [],
   "source": []
  }
 ],
 "metadata": {
  "kernelspec": {
   "display_name": "Python 3 (ipykernel)",
   "language": "python",
   "name": "python3"
  },
  "language_info": {
   "codemirror_mode": {
    "name": "ipython",
    "version": 3
   },
   "file_extension": ".py",
   "mimetype": "text/x-python",
   "name": "python",
   "nbconvert_exporter": "python",
   "pygments_lexer": "ipython3",
   "version": "3.9.12"
  }
 },
 "nbformat": 4,
 "nbformat_minor": 5
}
