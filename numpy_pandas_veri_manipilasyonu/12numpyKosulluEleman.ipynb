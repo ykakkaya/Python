{
 "cells": [
  {
   "cell_type": "code",
   "execution_count": 1,
   "id": "e76c75fe-1911-4426-ae1f-e42bace3e1ee",
   "metadata": {},
   "outputs": [],
   "source": [
    "import numpy as np"
   ]
  },
  {
   "cell_type": "code",
   "execution_count": 3,
   "id": "5ddac396-ba4e-47b7-a3aa-38206cb46e4a",
   "metadata": {},
   "outputs": [
    {
     "data": {
      "text/plain": [
       "array([40, 35, 18, 12, 35, 34,  8, 20])"
      ]
     },
     "execution_count": 3,
     "metadata": {},
     "output_type": "execute_result"
    }
   ],
   "source": [
    "a=np.random.randint(5,42,8)\n",
    "a"
   ]
  },
  {
   "cell_type": "code",
   "execution_count": 10,
   "id": "aa27ed4d-2551-40cf-b058-3104756a0cf1",
   "metadata": {},
   "outputs": [
    {
     "data": {
      "text/plain": [
       "array([False, False,  True,  True, False, False,  True,  True])"
      ]
     },
     "execution_count": 10,
     "metadata": {},
     "output_type": "execute_result"
    }
   ],
   "source": [
    "(a%2==0) & (a<=20)"
   ]
  },
  {
   "cell_type": "code",
   "execution_count": 6,
   "id": "867d538c-21c1-4aa8-bdd4-10908794c79a",
   "metadata": {},
   "outputs": [
    {
     "data": {
      "text/plain": [
       "array([18, 12,  8, 20])"
      ]
     },
     "execution_count": 6,
     "metadata": {},
     "output_type": "execute_result"
    }
   ],
   "source": [
    "kosul=(a%2==0) & (a<=20)\n",
    "a[kosul]"
   ]
  },
  {
   "cell_type": "code",
   "execution_count": 8,
   "id": "b23e4982-b223-45ed-b9c0-d976ef20742b",
   "metadata": {},
   "outputs": [
    {
     "data": {
      "text/plain": [
       "array([40, 34, 20])"
      ]
     },
     "execution_count": 8,
     "metadata": {},
     "output_type": "execute_result"
    }
   ],
   "source": [
    "a[(a%2==0) & (a>=20)]"
   ]
  },
  {
   "cell_type": "code",
   "execution_count": 11,
   "id": "f8aada32-a1da-421e-98bb-5809d84c8d01",
   "metadata": {},
   "outputs": [
    {
     "data": {
      "text/plain": [
       "array([[ 0,  1,  2,  3],\n",
       "       [ 4,  5,  6,  7],\n",
       "       [ 8,  9, 10, 11],\n",
       "       [12, 13, 14, 15],\n",
       "       [16, 17, 18, 19]])"
      ]
     },
     "execution_count": 11,
     "metadata": {},
     "output_type": "execute_result"
    }
   ],
   "source": [
    "b=np.arange(20).reshape(5,4)\n",
    "b"
   ]
  },
  {
   "cell_type": "code",
   "execution_count": 12,
   "id": "76d8db38-d88a-4ef3-8c74-2d681f17e6f6",
   "metadata": {},
   "outputs": [
    {
     "data": {
      "text/plain": [
       "array([ 0,  5, 10, 15])"
      ]
     },
     "execution_count": 12,
     "metadata": {},
     "output_type": "execute_result"
    }
   ],
   "source": [
    "b[b%5==0]"
   ]
  },
  {
   "cell_type": "code",
   "execution_count": 13,
   "id": "2b10fc55-8efc-4cfb-87a6-fbeb1b9a78ce",
   "metadata": {},
   "outputs": [
    {
     "data": {
      "text/plain": [
       "array([0, 1, 2, 3, 4, 5, 6, 7, 8])"
      ]
     },
     "execution_count": 13,
     "metadata": {},
     "output_type": "execute_result"
    }
   ],
   "source": [
    "b[b<9]"
   ]
  },
  {
   "cell_type": "code",
   "execution_count": null,
   "id": "70e59a8a-f465-4660-ab38-d661ec77b1d0",
   "metadata": {},
   "outputs": [],
   "source": []
  },
  {
   "cell_type": "code",
   "execution_count": null,
   "id": "b4987dca-45d9-4521-8193-ea9d3d365661",
   "metadata": {},
   "outputs": [],
   "source": []
  }
 ],
 "metadata": {
  "kernelspec": {
   "display_name": "Python 3 (ipykernel)",
   "language": "python",
   "name": "python3"
  },
  "language_info": {
   "codemirror_mode": {
    "name": "ipython",
    "version": 3
   },
   "file_extension": ".py",
   "mimetype": "text/x-python",
   "name": "python",
   "nbconvert_exporter": "python",
   "pygments_lexer": "ipython3",
   "version": "3.9.12"
  }
 },
 "nbformat": 4,
 "nbformat_minor": 5
}
