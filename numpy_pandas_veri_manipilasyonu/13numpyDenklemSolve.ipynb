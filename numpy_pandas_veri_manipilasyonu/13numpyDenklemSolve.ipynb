{
 "cells": [
  {
   "cell_type": "code",
   "execution_count": 1,
   "id": "5b189474-6d4d-4ac9-8c30-6dd18debe518",
   "metadata": {},
   "outputs": [],
   "source": [
    "import numpy as np"
   ]
  },
  {
   "cell_type": "markdown",
   "id": "9a725ca2-539a-473d-bf44-2a5f817f462c",
   "metadata": {},
   "source": [
    "* x – y = 2 \n",
    "* x + y = 4\n",
    "   _denklemini çözünüz?_\n",
    " "
   ]
  },
  {
   "cell_type": "code",
   "execution_count": 8,
   "id": "acd6f7bc-a263-488d-9bce-f64846dd4382",
   "metadata": {},
   "outputs": [],
   "source": [
    "a=np.array([[1,-1],[1,1]])"
   ]
  },
  {
   "cell_type": "code",
   "execution_count": 9,
   "id": "faae013c-2cd0-44e5-87f7-da72c402bfe1",
   "metadata": {},
   "outputs": [],
   "source": [
    "b=np.array([2,4])"
   ]
  },
  {
   "cell_type": "code",
   "execution_count": 10,
   "id": "e628af28-6735-427a-810d-0f578696bdac",
   "metadata": {},
   "outputs": [
    {
     "data": {
      "text/plain": [
       "array([3., 1.])"
      ]
     },
     "execution_count": 10,
     "metadata": {},
     "output_type": "execute_result"
    }
   ],
   "source": [
    "solve= np.linalg.solve(a,b)\n",
    "solve"
   ]
  },
  {
   "cell_type": "markdown",
   "id": "98aa2669-f276-4e2a-9022-23bc88b62a4a",
   "metadata": {},
   "source": [
    "* 4x + 2y = 8\n",
    "* 5x + 3y = 9 denklemini çözünüz"
   ]
  },
  {
   "cell_type": "code",
   "execution_count": 11,
   "id": "8979ecaa-f629-453f-ba72-0f740c3cbdee",
   "metadata": {},
   "outputs": [],
   "source": [
    "k=np.array([[4,2],[5,3]])\n",
    "l=np.array([8,9])"
   ]
  },
  {
   "cell_type": "code",
   "execution_count": 13,
   "id": "19443372-4b14-4f0a-b07d-052328128317",
   "metadata": {},
   "outputs": [
    {
     "data": {
      "text/plain": [
       "array([ 3., -2.])"
      ]
     },
     "execution_count": 13,
     "metadata": {},
     "output_type": "execute_result"
    }
   ],
   "source": [
    "solve2=np.linalg.solve(k,l)\n",
    "solve2"
   ]
  },
  {
   "cell_type": "code",
   "execution_count": null,
   "id": "bbddd3b8-8143-4674-8be4-3a45b073be04",
   "metadata": {},
   "outputs": [],
   "source": []
  }
 ],
 "metadata": {
  "kernelspec": {
   "display_name": "Python 3 (ipykernel)",
   "language": "python",
   "name": "python3"
  },
  "language_info": {
   "codemirror_mode": {
    "name": "ipython",
    "version": 3
   },
   "file_extension": ".py",
   "mimetype": "text/x-python",
   "name": "python",
   "nbconvert_exporter": "python",
   "pygments_lexer": "ipython3",
   "version": "3.9.12"
  }
 },
 "nbformat": 4,
 "nbformat_minor": 5
}
