{
 "cells": [
  {
   "cell_type": "code",
   "execution_count": 1,
   "id": "cc3fe851-bbc7-4fad-a321-a0825a0d5411",
   "metadata": {},
   "outputs": [
    {
     "name": "stdout",
     "output_type": "stream",
     "text": [
      "hello data manipulation\n"
     ]
    }
   ],
   "source": [
    "print(\"hello data manipulation\")"
   ]
  },
  {
   "cell_type": "code",
   "execution_count": 2,
   "id": "b42e2ea3-bdb3-472c-8c6b-0d873b52bebe",
   "metadata": {},
   "outputs": [
    {
     "name": "stdout",
     "output_type": "stream",
     "text": [
      "hello machine learning\n"
     ]
    }
   ],
   "source": [
    "print(\"hello machine learning\")"
   ]
  },
  {
   "cell_type": "markdown",
   "id": "02c2648b-a44d-4f82-8357-1c3c59ada09b",
   "metadata": {},
   "source": [
    "_bu bölüm bizim ilk uygulama örneğimiz olsun_\n",
    "**basit bir if elif uygulaması**"
   ]
  },
  {
   "cell_type": "code",
   "execution_count": null,
   "id": "f1c5b2dd-505f-4feb-9551-670d6b6a50eb",
   "metadata": {},
   "outputs": [],
   "source": [
    "a=int(input(\"bir sayı giriniz\"))\n",
    "if a==5:\n",
    "    print(\"a sayısı 5 tir\")\n",
    "elif a<5:\n",
    "    print(\"a sayısı 5 ten küçüktür\")\n",
    "else:\n",
    "    print(\"a sayısı 5 ten büyüktür\")"
   ]
  }
 ],
 "metadata": {
  "kernelspec": {
   "display_name": "Python 3 (ipykernel)",
   "language": "python",
   "name": "python3"
  },
  "language_info": {
   "codemirror_mode": {
    "name": "ipython",
    "version": 3
   },
   "file_extension": ".py",
   "mimetype": "text/x-python",
   "name": "python",
   "nbconvert_exporter": "python",
   "pygments_lexer": "ipython3",
   "version": "3.9.12"
  }
 },
 "nbformat": 4,
 "nbformat_minor": 5
}
