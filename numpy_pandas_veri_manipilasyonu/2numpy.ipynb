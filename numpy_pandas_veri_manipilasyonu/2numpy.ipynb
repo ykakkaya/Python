{
 "cells": [
  {
   "cell_type": "code",
   "execution_count": 1,
   "id": "75a19842-42c2-4765-a813-3800353e460b",
   "metadata": {},
   "outputs": [],
   "source": [
    "import numpy as np"
   ]
  },
  {
   "cell_type": "code",
   "execution_count": 2,
   "id": "d9923726-1e75-4e54-8566-cb233ee87cb2",
   "metadata": {},
   "outputs": [],
   "source": [
    "a=[1,2,3,4]\n",
    "b=[2,3,4,5]"
   ]
  },
  {
   "cell_type": "code",
   "execution_count": 3,
   "id": "2d5e8907-6723-4e5d-ae17-170692483075",
   "metadata": {},
   "outputs": [
    {
     "data": {
      "text/plain": [
       "[1, 2, 3, 4]"
      ]
     },
     "execution_count": 3,
     "metadata": {},
     "output_type": "execute_result"
    }
   ],
   "source": [
    "a"
   ]
  },
  {
   "cell_type": "code",
   "execution_count": 4,
   "id": "9e79e295-b7e2-4573-89f1-71bd39d1e939",
   "metadata": {},
   "outputs": [
    {
     "data": {
      "text/plain": [
       "[2, 3, 4, 5]"
      ]
     },
     "execution_count": 4,
     "metadata": {},
     "output_type": "execute_result"
    }
   ],
   "source": [
    "b"
   ]
  },
  {
   "cell_type": "markdown",
   "id": "cb936bc2-2a5b-4518-ba9f-ef8d2112f9ca",
   "metadata": {},
   "source": [
    "_numpy kütüphanesi kullanmadan_"
   ]
  },
  {
   "cell_type": "code",
   "execution_count": 5,
   "id": "d45798bc-7af3-4c96-ad5f-71497b261a9e",
   "metadata": {},
   "outputs": [],
   "source": [
    "ab=[]\n",
    "for i in range(0,len(a)):\n",
    "    ab.append(a[i]*b[i])"
   ]
  },
  {
   "cell_type": "code",
   "execution_count": 6,
   "id": "458bc601-c70d-452a-9674-2c93693b94c2",
   "metadata": {},
   "outputs": [
    {
     "name": "stdout",
     "output_type": "stream",
     "text": [
      "[2, 6, 12, 20]\n"
     ]
    }
   ],
   "source": [
    "print(ab)"
   ]
  },
  {
   "cell_type": "markdown",
   "id": "a623f28c-cc21-4267-a54d-4804a901edcd",
   "metadata": {},
   "source": [
    "**numpy kütüphanesi kullanılarak**"
   ]
  },
  {
   "cell_type": "code",
   "execution_count": 7,
   "id": "f64d063d-6668-4a18-bf1e-479001c4961b",
   "metadata": {},
   "outputs": [],
   "source": [
    "ax=np.array(a)\n",
    "bx=np.array(b)"
   ]
  },
  {
   "cell_type": "code",
   "execution_count": 8,
   "id": "bb7d03e6-09f8-4972-988f-c0d780d7e2a3",
   "metadata": {},
   "outputs": [
    {
     "name": "stdout",
     "output_type": "stream",
     "text": [
      "[ 2  6 12 20]\n"
     ]
    }
   ],
   "source": [
    "print(ax*bx)"
   ]
  }
 ],
 "metadata": {
  "kernelspec": {
   "display_name": "Python 3 (ipykernel)",
   "language": "python",
   "name": "python3"
  },
  "language_info": {
   "codemirror_mode": {
    "name": "ipython",
    "version": 3
   },
   "file_extension": ".py",
   "mimetype": "text/x-python",
   "name": "python",
   "nbconvert_exporter": "python",
   "pygments_lexer": "ipython3",
   "version": "3.9.12"
  }
 },
 "nbformat": 4,
 "nbformat_minor": 5
}
