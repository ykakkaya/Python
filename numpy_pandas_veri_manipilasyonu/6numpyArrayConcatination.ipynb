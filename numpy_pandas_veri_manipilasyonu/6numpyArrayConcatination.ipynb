{
 "cells": [
  {
   "cell_type": "code",
   "execution_count": 1,
   "id": "db86a582-a229-41c3-a3d4-a40ac696e00a",
   "metadata": {},
   "outputs": [],
   "source": [
    "import numpy as np"
   ]
  },
  {
   "cell_type": "code",
   "execution_count": 5,
   "id": "3e2a51d3-fd34-48f2-b29b-da4b7e2d60b3",
   "metadata": {},
   "outputs": [
    {
     "data": {
      "text/plain": [
       "array([3, 3, 2, 4])"
      ]
     },
     "execution_count": 5,
     "metadata": {},
     "output_type": "execute_result"
    }
   ],
   "source": [
    "a=np.random.randint(1,10,4)\n",
    "a"
   ]
  },
  {
   "cell_type": "code",
   "execution_count": 6,
   "id": "b5a6d081-b06e-40cc-99c4-6fc2a06a3fbe",
   "metadata": {},
   "outputs": [
    {
     "data": {
      "text/plain": [
       "array([4, 1, 7, 8])"
      ]
     },
     "execution_count": 6,
     "metadata": {},
     "output_type": "execute_result"
    }
   ],
   "source": [
    "b=np.random.randint(1,10,4)\n",
    "b"
   ]
  },
  {
   "cell_type": "code",
   "execution_count": 8,
   "id": "a42a16c4-f09e-43e4-8b56-d26b7ce97ef9",
   "metadata": {},
   "outputs": [
    {
     "data": {
      "text/plain": [
       "array([3, 3, 2, 4, 4, 1, 7, 8])"
      ]
     },
     "execution_count": 8,
     "metadata": {},
     "output_type": "execute_result"
    }
   ],
   "source": [
    "c=np.concatenate([a,b])\n",
    "c"
   ]
  },
  {
   "cell_type": "code",
   "execution_count": 17,
   "id": "ed29c982-4d4c-4a47-b903-ecc8a7bbc56a",
   "metadata": {},
   "outputs": [
    {
     "data": {
      "text/plain": [
       "array([[-1.05996135,  0.39707512],\n",
       "       [ 0.04792697, -0.10637233],\n",
       "       [-0.16715688,  1.12118081],\n",
       "       [ 2.10481014,  0.84504608]])"
      ]
     },
     "execution_count": 17,
     "metadata": {},
     "output_type": "execute_result"
    }
   ],
   "source": [
    "x=np.random.randn(4,2)\n",
    "x"
   ]
  },
  {
   "cell_type": "code",
   "execution_count": 22,
   "id": "7c4eb16f-b6b8-45eb-867e-203b51b365ef",
   "metadata": {},
   "outputs": [
    {
     "data": {
      "text/plain": [
       "array([[6, 9],\n",
       "       [5, 1],\n",
       "       [5, 5],\n",
       "       [5, 4]])"
      ]
     },
     "execution_count": 22,
     "metadata": {},
     "output_type": "execute_result"
    }
   ],
   "source": [
    "y=np.random.randint(1,10,(4,2))\n",
    "y"
   ]
  },
  {
   "cell_type": "code",
   "execution_count": 23,
   "id": "304dab35-c398-45ed-9127-95fea3e8324a",
   "metadata": {},
   "outputs": [
    {
     "data": {
      "text/plain": [
       "array([[-1.05996135,  0.39707512],\n",
       "       [ 0.04792697, -0.10637233],\n",
       "       [-0.16715688,  1.12118081],\n",
       "       [ 2.10481014,  0.84504608],\n",
       "       [ 6.        ,  9.        ],\n",
       "       [ 5.        ,  1.        ],\n",
       "       [ 5.        ,  5.        ],\n",
       "       [ 5.        ,  4.        ]])"
      ]
     },
     "execution_count": 23,
     "metadata": {},
     "output_type": "execute_result"
    }
   ],
   "source": [
    "z=np.concatenate([x,y])\n",
    "z"
   ]
  },
  {
   "cell_type": "code",
   "execution_count": 28,
   "id": "22d74219-4951-4cd2-9ee1-e67247f23701",
   "metadata": {},
   "outputs": [
    {
     "data": {
      "text/plain": [
       "array([[-1.05996135,  0.39707512,  6.        ,  9.        ],\n",
       "       [ 0.04792697, -0.10637233,  5.        ,  1.        ],\n",
       "       [-0.16715688,  1.12118081,  5.        ,  5.        ],\n",
       "       [ 2.10481014,  0.84504608,  5.        ,  4.        ]])"
      ]
     },
     "execution_count": 28,
     "metadata": {},
     "output_type": "execute_result"
    }
   ],
   "source": [
    "k=np.concatenate([x,y],axis=1)\n",
    "k"
   ]
  },
  {
   "cell_type": "code",
   "execution_count": 27,
   "id": "09912a08-7e95-4edf-8ac0-0ae5b14e2708",
   "metadata": {},
   "outputs": [
    {
     "data": {
      "text/plain": [
       "array([[-1.05996135,  0.39707512,  0.04792697, -0.10637233],\n",
       "       [-0.16715688,  1.12118081,  2.10481014,  0.84504608],\n",
       "       [ 6.        ,  9.        ,  5.        ,  1.        ],\n",
       "       [ 5.        ,  5.        ,  5.        ,  4.        ]])"
      ]
     },
     "execution_count": 27,
     "metadata": {},
     "output_type": "execute_result"
    }
   ],
   "source": [
    "w=z.reshape((4,4))\n",
    "w"
   ]
  },
  {
   "cell_type": "code",
   "execution_count": null,
   "id": "c53e4480-7255-40d8-b72e-f112c31ff0f1",
   "metadata": {},
   "outputs": [],
   "source": []
  }
 ],
 "metadata": {
  "kernelspec": {
   "display_name": "Python 3 (ipykernel)",
   "language": "python",
   "name": "python3"
  },
  "language_info": {
   "codemirror_mode": {
    "name": "ipython",
    "version": 3
   },
   "file_extension": ".py",
   "mimetype": "text/x-python",
   "name": "python",
   "nbconvert_exporter": "python",
   "pygments_lexer": "ipython3",
   "version": "3.9.12"
  }
 },
 "nbformat": 4,
 "nbformat_minor": 5
}
