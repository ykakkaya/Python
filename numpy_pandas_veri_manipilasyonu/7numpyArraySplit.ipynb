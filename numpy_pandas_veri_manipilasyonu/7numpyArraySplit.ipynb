{
 "cells": [
  {
   "cell_type": "markdown",
   "id": "949ddab1-2db9-43cc-b380-26c1f62fec49",
   "metadata": {},
   "source": [
    "_split işlemini yaparken indekslere göre yapıyoruz_"
   ]
  },
  {
   "cell_type": "code",
   "execution_count": 1,
   "id": "ed95e90f-e912-455c-b8e2-6268a4967d57",
   "metadata": {},
   "outputs": [],
   "source": [
    "import numpy as np"
   ]
  },
  {
   "cell_type": "code",
   "execution_count": 3,
   "id": "0893d4a0-2770-47c7-ba8c-bb9c755ee9ae",
   "metadata": {},
   "outputs": [
    {
     "data": {
      "text/plain": [
       "array([ 1,  9, 17, 25, 33, 41, 49])"
      ]
     },
     "execution_count": 3,
     "metadata": {},
     "output_type": "execute_result"
    }
   ],
   "source": [
    "a=np.arange(1,50,8)\n",
    "a"
   ]
  },
  {
   "cell_type": "code",
   "execution_count": 7,
   "id": "833cb17c-adb3-4d5e-aa3e-6c7f2cc37653",
   "metadata": {},
   "outputs": [
    {
     "data": {
      "text/plain": [
       "array([ 1,  9, 17])"
      ]
     },
     "execution_count": 7,
     "metadata": {},
     "output_type": "execute_result"
    }
   ],
   "source": [
    "x,y,z=np.split(a,[3,5])\n",
    "x"
   ]
  },
  {
   "cell_type": "code",
   "execution_count": 8,
   "id": "619ea3f6-90cd-4488-ac67-5d8b84cf61f2",
   "metadata": {},
   "outputs": [
    {
     "data": {
      "text/plain": [
       "array([25, 33])"
      ]
     },
     "execution_count": 8,
     "metadata": {},
     "output_type": "execute_result"
    }
   ],
   "source": [
    "y"
   ]
  },
  {
   "cell_type": "code",
   "execution_count": 9,
   "id": "839aa93d-3e7d-4a85-8094-601a03677a11",
   "metadata": {},
   "outputs": [
    {
     "data": {
      "text/plain": [
       "array([41, 49])"
      ]
     },
     "execution_count": 9,
     "metadata": {},
     "output_type": "execute_result"
    }
   ],
   "source": [
    "z"
   ]
  },
  {
   "cell_type": "markdown",
   "id": "d12cfa84-8560-4aef-a4e0-036d47473f9d",
   "metadata": {},
   "source": [
    "_iki boyutlu arrayları split etme_"
   ]
  },
  {
   "cell_type": "markdown",
   "id": "6a5589a0-1357-4743-ba25-65608d494ce9",
   "metadata": {},
   "source": [
    "* satırlardan bölmek için vsplit\n",
    "* sütünlardan bölmek için hsplit kullanılır."
   ]
  },
  {
   "cell_type": "code",
   "execution_count": 13,
   "id": "2f9a67b6-bb2a-49da-a232-67468913483f",
   "metadata": {},
   "outputs": [
    {
     "data": {
      "text/plain": [
       "array([[20, 18, 18, 41],\n",
       "       [43, 44, 35,  8],\n",
       "       [ 3, 20, 13, 44],\n",
       "       [17, 20,  6, 24]])"
      ]
     },
     "execution_count": 13,
     "metadata": {},
     "output_type": "execute_result"
    }
   ],
   "source": [
    "marr=np.random.randint(1,50,(4,4))\n",
    "marr"
   ]
  },
  {
   "cell_type": "code",
   "execution_count": 16,
   "id": "1b00fac5-d86d-4991-9b5e-7c3bf07952b9",
   "metadata": {},
   "outputs": [
    {
     "data": {
      "text/plain": [
       "array([[20, 18, 18, 41],\n",
       "       [43, 44, 35,  8]])"
      ]
     },
     "execution_count": 16,
     "metadata": {},
     "output_type": "execute_result"
    }
   ],
   "source": [
    "a,b=np.vsplit(marr,[2])\n",
    "a"
   ]
  },
  {
   "cell_type": "code",
   "execution_count": 17,
   "id": "1e8cdbe8-1ee9-4cc3-8ec9-726156247663",
   "metadata": {},
   "outputs": [
    {
     "data": {
      "text/plain": [
       "array([[ 3, 20, 13, 44],\n",
       "       [17, 20,  6, 24]])"
      ]
     },
     "execution_count": 17,
     "metadata": {},
     "output_type": "execute_result"
    }
   ],
   "source": [
    "b"
   ]
  },
  {
   "cell_type": "code",
   "execution_count": 19,
   "id": "5d436799-de08-4448-9293-1a73ef455da7",
   "metadata": {},
   "outputs": [
    {
     "data": {
      "text/plain": [
       "array([[20],\n",
       "       [43],\n",
       "       [ 3],\n",
       "       [17]])"
      ]
     },
     "execution_count": 19,
     "metadata": {},
     "output_type": "execute_result"
    }
   ],
   "source": [
    "c,d=np.hsplit(marr,[1])\n",
    "c"
   ]
  },
  {
   "cell_type": "code",
   "execution_count": 20,
   "id": "384b9160-00fd-4802-89cc-a576d5dff917",
   "metadata": {},
   "outputs": [
    {
     "data": {
      "text/plain": [
       "array([[18, 18, 41],\n",
       "       [44, 35,  8],\n",
       "       [20, 13, 44],\n",
       "       [20,  6, 24]])"
      ]
     },
     "execution_count": 20,
     "metadata": {},
     "output_type": "execute_result"
    }
   ],
   "source": [
    "d"
   ]
  },
  {
   "cell_type": "code",
   "execution_count": null,
   "id": "bf719149-5259-4eef-8632-f135cc6379f7",
   "metadata": {},
   "outputs": [],
   "source": []
  }
 ],
 "metadata": {
  "kernelspec": {
   "display_name": "Python 3 (ipykernel)",
   "language": "python",
   "name": "python3"
  },
  "language_info": {
   "codemirror_mode": {
    "name": "ipython",
    "version": 3
   },
   "file_extension": ".py",
   "mimetype": "text/x-python",
   "name": "python",
   "nbconvert_exporter": "python",
   "pygments_lexer": "ipython3",
   "version": "3.9.12"
  }
 },
 "nbformat": 4,
 "nbformat_minor": 5
}
