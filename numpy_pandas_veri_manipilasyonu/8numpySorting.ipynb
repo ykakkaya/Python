{
 "cells": [
  {
   "cell_type": "code",
   "execution_count": 1,
   "id": "4945a04f-dc24-4bd9-a2e4-6f9863f504f8",
   "metadata": {},
   "outputs": [],
   "source": [
    "import numpy as np"
   ]
  },
  {
   "cell_type": "code",
   "execution_count": 4,
   "id": "28cdecd9-b826-459b-82a6-b40d6714d37c",
   "metadata": {},
   "outputs": [
    {
     "data": {
      "text/plain": [
       "array([10, 65, 77, 13, 56, 47, 19, 46, 57, 78, 51, 36])"
      ]
     },
     "execution_count": 4,
     "metadata": {},
     "output_type": "execute_result"
    }
   ],
   "source": [
    "a=np.random.randint(9,85,12)\n",
    "a"
   ]
  },
  {
   "cell_type": "code",
   "execution_count": 5,
   "id": "b74f7237-f185-4960-814b-6dc76ad10dc5",
   "metadata": {},
   "outputs": [
    {
     "data": {
      "text/plain": [
       "array([10, 13, 19, 36, 46, 47, 51, 56, 57, 65, 77, 78])"
      ]
     },
     "execution_count": 5,
     "metadata": {},
     "output_type": "execute_result"
    }
   ],
   "source": [
    "np.sort(a)"
   ]
  },
  {
   "cell_type": "code",
   "execution_count": 13,
   "id": "c7de502a-0a94-4824-938c-2bf9732b8e1d",
   "metadata": {},
   "outputs": [
    {
     "data": {
      "text/plain": [
       "array([[ 10.45143875,  13.66702854,  21.11412224, -34.26544787],\n",
       "       [  6.32475516,   3.14555696,  -1.32233167, -15.97212612],\n",
       "       [  1.26382284,  22.51496729,  -6.4658647 ,  12.35020235],\n",
       "       [ 11.7239972 ,  28.17401677, -10.35357385,   2.28466166],\n",
       "       [ 13.79954197,  14.38057335,  20.2703264 ,   1.40612514]])"
      ]
     },
     "execution_count": 13,
     "metadata": {},
     "output_type": "execute_result"
    }
   ],
   "source": [
    "marr=np.random.normal(5,12,(5,4))\n",
    "marr"
   ]
  },
  {
   "cell_type": "code",
   "execution_count": 17,
   "id": "f7272bb4-1bfc-4774-9790-c7211fd64170",
   "metadata": {},
   "outputs": [
    {
     "data": {
      "text/plain": [
       "array([[-34.26544787,  10.45143875,  13.66702854,  21.11412224],\n",
       "       [-15.97212612,  -1.32233167,   3.14555696,   6.32475516],\n",
       "       [ -6.4658647 ,   1.26382284,  12.35020235,  22.51496729],\n",
       "       [-10.35357385,   2.28466166,  11.7239972 ,  28.17401677],\n",
       "       [  1.40612514,  13.79954197,  14.38057335,  20.2703264 ]])"
      ]
     },
     "execution_count": 17,
     "metadata": {},
     "output_type": "execute_result"
    }
   ],
   "source": [
    "np.sort(marr)"
   ]
  },
  {
   "cell_type": "markdown",
   "id": "7951c5b0-9a71-41b9-91d1-0bf1ce95ff26",
   "metadata": {},
   "source": [
    "* _axis=1 dediğimizde her satır kendi içinde sıralanır (sort metodunun default değeridir)_\n",
    "* _axis=0 dediğimizde de her sütun kendi içerisinde sıralanır"
   ]
  },
  {
   "cell_type": "code",
   "execution_count": 16,
   "id": "192d85f9-2207-48ac-b460-b5771d5246e9",
   "metadata": {},
   "outputs": [
    {
     "data": {
      "text/plain": [
       "array([[  1.26382284,   3.14555696, -10.35357385, -34.26544787],\n",
       "       [  6.32475516,  13.66702854,  -6.4658647 , -15.97212612],\n",
       "       [ 10.45143875,  14.38057335,  -1.32233167,   1.40612514],\n",
       "       [ 11.7239972 ,  22.51496729,  20.2703264 ,   2.28466166],\n",
       "       [ 13.79954197,  28.17401677,  21.11412224,  12.35020235]])"
      ]
     },
     "execution_count": 16,
     "metadata": {},
     "output_type": "execute_result"
    }
   ],
   "source": [
    "np.sort(marr,axis=0)"
   ]
  },
  {
   "cell_type": "code",
   "execution_count": null,
   "id": "971bb103-5faf-4374-861b-c0954af20dbc",
   "metadata": {},
   "outputs": [],
   "source": []
  }
 ],
 "metadata": {
  "kernelspec": {
   "display_name": "Python 3 (ipykernel)",
   "language": "python",
   "name": "python3"
  },
  "language_info": {
   "codemirror_mode": {
    "name": "ipython",
    "version": 3
   },
   "file_extension": ".py",
   "mimetype": "text/x-python",
   "name": "python",
   "nbconvert_exporter": "python",
   "pygments_lexer": "ipython3",
   "version": "3.9.12"
  }
 },
 "nbformat": 4,
 "nbformat_minor": 5
}
