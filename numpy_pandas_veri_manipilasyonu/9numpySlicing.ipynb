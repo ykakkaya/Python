{
 "cells": [
  {
   "cell_type": "code",
   "execution_count": 3,
   "id": "d9443bdc-8315-4231-bb79-ae3890e37bb2",
   "metadata": {},
   "outputs": [],
   "source": [
    "import numpy as np"
   ]
  },
  {
   "cell_type": "markdown",
   "id": "020b8454-b603-4215-acc8-85eec75a92c8",
   "metadata": {},
   "source": [
    "_tek boyutlu arrayler de slicing_"
   ]
  },
  {
   "cell_type": "code",
   "execution_count": 7,
   "id": "f9c2bea8-440e-4a2b-871d-3ef3cb3ed62c",
   "metadata": {},
   "outputs": [
    {
     "data": {
      "text/plain": [
       "array([37, 24, 12, 11, 12, 23, 40, 30])"
      ]
     },
     "execution_count": 7,
     "metadata": {},
     "output_type": "execute_result"
    }
   ],
   "source": [
    "a=np.random.randint(10,45,8)\n",
    "a"
   ]
  },
  {
   "cell_type": "code",
   "execution_count": 8,
   "id": "1fbf30f0-c321-4f79-a2c5-fd8541e4d445",
   "metadata": {},
   "outputs": [
    {
     "data": {
      "text/plain": [
       "array([37, 24, 12, 11, 12])"
      ]
     },
     "execution_count": 8,
     "metadata": {},
     "output_type": "execute_result"
    }
   ],
   "source": [
    "a[0:5]"
   ]
  },
  {
   "cell_type": "code",
   "execution_count": 9,
   "id": "82451f13-dd20-4ab4-a33b-01d6d32a0744",
   "metadata": {},
   "outputs": [
    {
     "data": {
      "text/plain": [
       "array([12, 23, 40, 30])"
      ]
     },
     "execution_count": 9,
     "metadata": {},
     "output_type": "execute_result"
    }
   ],
   "source": [
    "a[4:]"
   ]
  },
  {
   "cell_type": "code",
   "execution_count": 10,
   "id": "d6b911e7-c4b0-48ec-b4a3-642053d4f30c",
   "metadata": {},
   "outputs": [
    {
     "data": {
      "text/plain": [
       "array([24, 12, 30])"
      ]
     },
     "execution_count": 10,
     "metadata": {},
     "output_type": "execute_result"
    }
   ],
   "source": [
    "a[1::3]"
   ]
  },
  {
   "cell_type": "markdown",
   "id": "59b20ce2-716b-4d55-aea5-bfb55400310b",
   "metadata": {},
   "source": [
    "_çok boyutlu arraylarde slicing işlemi_"
   ]
  },
  {
   "cell_type": "code",
   "execution_count": 11,
   "id": "a766faf5-79c3-43e3-a907-a71883b7b5e0",
   "metadata": {},
   "outputs": [
    {
     "data": {
      "text/plain": [
       "array([[33, 25, 27, 46, 20],\n",
       "       [39, 32, 26, 19, 33],\n",
       "       [30, 17, 46, 48, 33],\n",
       "       [51, 37, 40, 21, 53]])"
      ]
     },
     "execution_count": 11,
     "metadata": {},
     "output_type": "execute_result"
    }
   ],
   "source": [
    "b=np.random.randint(12,54,(4,5))\n",
    "b"
   ]
  },
  {
   "cell_type": "code",
   "execution_count": 13,
   "id": "53bd1fb8-d4ac-4d4f-8a92-e2c7a0d88bc3",
   "metadata": {},
   "outputs": [
    {
     "data": {
      "text/plain": [
       "array([[27, 46],\n",
       "       [26, 19],\n",
       "       [46, 48]])"
      ]
     },
     "execution_count": 13,
     "metadata": {},
     "output_type": "execute_result"
    }
   ],
   "source": [
    "b[0:3,2:4]"
   ]
  },
  {
   "cell_type": "code",
   "execution_count": 14,
   "id": "af6c5537-4d72-49f6-8c78-1c66ec4ff30e",
   "metadata": {},
   "outputs": [
    {
     "data": {
      "text/plain": [
       "array([[33, 25, 27],\n",
       "       [39, 32, 26],\n",
       "       [30, 17, 46],\n",
       "       [51, 37, 40]])"
      ]
     },
     "execution_count": 14,
     "metadata": {},
     "output_type": "execute_result"
    }
   ],
   "source": [
    "b[:,0:3]"
   ]
  },
  {
   "cell_type": "code",
   "execution_count": 18,
   "id": "22eb25dd-8d8d-449f-9c41-0691e1dfedb1",
   "metadata": {},
   "outputs": [
    {
     "data": {
      "text/plain": [
       "array([33, 25, 27, 46, 20])"
      ]
     },
     "execution_count": 18,
     "metadata": {},
     "output_type": "execute_result"
    }
   ],
   "source": [
    "b[0,:]"
   ]
  },
  {
   "cell_type": "code",
   "execution_count": 19,
   "id": "06003e6e-b360-471f-9af0-a7429e8b441d",
   "metadata": {},
   "outputs": [
    {
     "data": {
      "text/plain": [
       "array([33, 39, 30, 51])"
      ]
     },
     "execution_count": 19,
     "metadata": {},
     "output_type": "execute_result"
    }
   ],
   "source": [
    "b[:,0]"
   ]
  },
  {
   "cell_type": "code",
   "execution_count": null,
   "id": "3440d654-ece5-494d-b1f3-4656b56ad5d6",
   "metadata": {},
   "outputs": [],
   "source": []
  }
 ],
 "metadata": {
  "kernelspec": {
   "display_name": "Python 3 (ipykernel)",
   "language": "python",
   "name": "python3"
  },
  "language_info": {
   "codemirror_mode": {
    "name": "ipython",
    "version": 3
   },
   "file_extension": ".py",
   "mimetype": "text/x-python",
   "name": "python",
   "nbconvert_exporter": "python",
   "pygments_lexer": "ipython3",
   "version": "3.9.12"
  }
 },
 "nbformat": 4,
 "nbformat_minor": 5
}
