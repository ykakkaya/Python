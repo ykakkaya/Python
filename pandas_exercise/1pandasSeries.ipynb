{
 "cells": [
  {
   "cell_type": "code",
   "execution_count": 1,
   "id": "5cde1ddd-8029-491a-82ae-69550949b725",
   "metadata": {},
   "outputs": [],
   "source": [
    "import pandas as pd"
   ]
  },
  {
   "cell_type": "code",
   "execution_count": 10,
   "id": "206e6ce2-cf9c-4145-bb89-1b58a8b9a3a1",
   "metadata": {},
   "outputs": [
    {
     "data": {
      "text/plain": [
       "0     10\n",
       "1     20\n",
       "2     30\n",
       "3     40\n",
       "4     50\n",
       "5     60\n",
       "6     70\n",
       "7     80\n",
       "8     90\n",
       "9    100\n",
       "dtype: int64"
      ]
     },
     "execution_count": 10,
     "metadata": {},
     "output_type": "execute_result"
    }
   ],
   "source": [
    "a=pd.Series([10,20,30,40,50,60,70,80,90,100])\n",
    "a"
   ]
  },
  {
   "cell_type": "code",
   "execution_count": 11,
   "id": "a7d40902-3fe3-49a6-adcf-d71da0cecfe4",
   "metadata": {},
   "outputs": [
    {
     "data": {
      "text/plain": [
       "50"
      ]
     },
     "execution_count": 11,
     "metadata": {},
     "output_type": "execute_result"
    }
   ],
   "source": [
    "a[4]"
   ]
  },
  {
   "cell_type": "code",
   "execution_count": 12,
   "id": "a7776c74-f24a-4886-99f5-024330018ee6",
   "metadata": {},
   "outputs": [
    {
     "data": {
      "text/plain": [
       "pandas.core.series.Series"
      ]
     },
     "execution_count": 12,
     "metadata": {},
     "output_type": "execute_result"
    }
   ],
   "source": [
    "type(a)"
   ]
  },
  {
   "cell_type": "code",
   "execution_count": 13,
   "id": "c7076d49-fad2-4773-b918-a681b3f2a136",
   "metadata": {},
   "outputs": [
    {
     "data": {
      "text/plain": [
       "[RangeIndex(start=0, stop=10, step=1)]"
      ]
     },
     "execution_count": 13,
     "metadata": {},
     "output_type": "execute_result"
    }
   ],
   "source": [
    "a.axes"
   ]
  },
  {
   "cell_type": "markdown",
   "id": "7a28095b-138e-4398-9398-18ef73ccb540",
   "metadata": {},
   "source": [
    "### _numpy array olarak sadece value değerlerini verir_"
   ]
  },
  {
   "cell_type": "code",
   "execution_count": 14,
   "id": "21c37c86-71e3-4a00-8156-1f3ce9e4cdae",
   "metadata": {},
   "outputs": [
    {
     "data": {
      "text/plain": [
       "array([ 10,  20,  30,  40,  50,  60,  70,  80,  90, 100], dtype=int64)"
      ]
     },
     "execution_count": 14,
     "metadata": {},
     "output_type": "execute_result"
    }
   ],
   "source": [
    "a.values"
   ]
  },
  {
   "cell_type": "markdown",
   "id": "9c95dfcd-9f40-40ac-84d3-5d448ab7349a",
   "metadata": {},
   "source": [
    "###  _default olarak ilk 5 elementi getirir yoksa input a göre getirir slicing işlemi gibi_"
   ]
  },
  {
   "cell_type": "code",
   "execution_count": 15,
   "id": "a020f7ca-2340-4b13-9bac-9975690f6d5c",
   "metadata": {},
   "outputs": [
    {
     "data": {
      "text/plain": [
       "0    10\n",
       "1    20\n",
       "2    30\n",
       "dtype: int64"
      ]
     },
     "execution_count": 15,
     "metadata": {},
     "output_type": "execute_result"
    }
   ],
   "source": [
    "a[:3]"
   ]
  },
  {
   "cell_type": "code",
   "execution_count": 16,
   "id": "e7913585-9f39-4727-b568-c8959374d975",
   "metadata": {},
   "outputs": [
    {
     "data": {
      "text/plain": [
       "0    10\n",
       "1    20\n",
       "2    30\n",
       "3    40\n",
       "4    50\n",
       "dtype: int64"
      ]
     },
     "execution_count": 16,
     "metadata": {},
     "output_type": "execute_result"
    }
   ],
   "source": [
    "a.head()"
   ]
  },
  {
   "cell_type": "code",
   "execution_count": 17,
   "id": "31d4fc29-28eb-4f9c-ade9-2bd8665c3758",
   "metadata": {},
   "outputs": [
    {
     "data": {
      "text/plain": [
       "0    10\n",
       "1    20\n",
       "2    30\n",
       "3    40\n",
       "4    50\n",
       "5    60\n",
       "6    70\n",
       "dtype: int64"
      ]
     },
     "execution_count": 17,
     "metadata": {},
     "output_type": "execute_result"
    }
   ],
   "source": [
    "a.head(7)"
   ]
  },
  {
   "cell_type": "markdown",
   "id": "fb8b58e5-772b-4092-9e8f-b95d94ffc62a",
   "metadata": {},
   "source": [
    "### tail fonksiyonu da serinin elemanlarına sondan bakmak için kullanılır head in tersi gibi"
   ]
  },
  {
   "cell_type": "code",
   "execution_count": 19,
   "id": "1ba254f8-06a5-428f-b5f9-7429db790b56",
   "metadata": {},
   "outputs": [
    {
     "data": {
      "text/plain": [
       "7     80\n",
       "8     90\n",
       "9    100\n",
       "dtype: int64"
      ]
     },
     "execution_count": 19,
     "metadata": {},
     "output_type": "execute_result"
    }
   ],
   "source": [
    "a.tail(3)"
   ]
  },
  {
   "cell_type": "markdown",
   "id": "803f4e41-5b85-4d25-9fd7-1cf30b48009e",
   "metadata": {},
   "source": [
    "### index ataması"
   ]
  },
  {
   "cell_type": "code",
   "execution_count": 29,
   "id": "ce84366e-58f8-43c1-8ae4-f59497c85ded",
   "metadata": {},
   "outputs": [
    {
     "data": {
      "text/plain": [
       "34    istanbul\n",
       "38     kayseri\n",
       "35       izmir\n",
       "dtype: object"
      ]
     },
     "execution_count": 29,
     "metadata": {},
     "output_type": "execute_result"
    }
   ],
   "source": [
    "b=pd.Series([\"istanbul\",\"kayseri\",\"izmir\"],index=[34,38,35])\n",
    "b"
   ]
  },
  {
   "cell_type": "code",
   "execution_count": 30,
   "id": "23544e02-e4d6-4268-98ea-03b7206e71a9",
   "metadata": {},
   "outputs": [
    {
     "data": {
      "text/plain": [
       "'kayseri'"
      ]
     },
     "execution_count": 30,
     "metadata": {},
     "output_type": "execute_result"
    }
   ],
   "source": [
    "b[38]"
   ]
  },
  {
   "cell_type": "code",
   "execution_count": 32,
   "id": "42305225-4196-4c2a-85e8-08758e43d6fc",
   "metadata": {},
   "outputs": [
    {
     "data": {
      "text/plain": [
       "1        adana\n",
       "2     adıyaman\n",
       "3        afyon\n",
       "6       ankara\n",
       "34    istanbul\n",
       "35       izmir\n",
       "38     kayseri\n",
       "dtype: object"
      ]
     },
     "execution_count": 32,
     "metadata": {},
     "output_type": "execute_result"
    }
   ],
   "source": [
    "c=pd.Series({1:\"adana\",2:\"adıyaman\",3:\"afyon\",6:\"ankara\",34:\"istanbul\",35:\"izmir\",38:\"kayseri\"})\n",
    "c"
   ]
  },
  {
   "cell_type": "markdown",
   "id": "6249e60f-d7e1-47ca-b572-dcb6f1879b20",
   "metadata": {},
   "source": [
    "### iki seriyi birlestirerek yeni bir seri oluşturma"
   ]
  },
  {
   "cell_type": "code",
   "execution_count": 36,
   "id": "bb3c44c7-475f-4370-92bf-9062ca7d93d8",
   "metadata": {},
   "outputs": [
    {
     "data": {
      "text/plain": [
       "0           10\n",
       "1           20\n",
       "2           30\n",
       "3           40\n",
       "4           50\n",
       "5           60\n",
       "6           70\n",
       "7           80\n",
       "8           90\n",
       "9          100\n",
       "34    istanbul\n",
       "38     kayseri\n",
       "35       izmir\n",
       "dtype: object"
      ]
     },
     "execution_count": 36,
     "metadata": {},
     "output_type": "execute_result"
    }
   ],
   "source": [
    "d=pd.concat([a,b])\n",
    "d"
   ]
  },
  {
   "cell_type": "code",
   "execution_count": 43,
   "id": "ff7e0066-5425-40d4-9232-6ce226c219ec",
   "metadata": {},
   "outputs": [
    {
     "data": {
      "text/plain": [
       "array([10, 20, 30, 40, 50, 60, 70, 80, 90, 100, 'istanbul', 'kayseri',\n",
       "       'izmir'], dtype=object)"
      ]
     },
     "execution_count": 43,
     "metadata": {},
     "output_type": "execute_result"
    }
   ],
   "source": [
    "d.values"
   ]
  },
  {
   "cell_type": "code",
   "execution_count": 38,
   "id": "e53405b0-9f39-4bb7-92fa-8b44426567b4",
   "metadata": {},
   "outputs": [
    {
     "data": {
      "text/plain": [
       "Int64Index([0, 1, 2, 3, 4, 5, 6, 7, 8, 9, 34, 38, 35], dtype='int64')"
      ]
     },
     "execution_count": 38,
     "metadata": {},
     "output_type": "execute_result"
    }
   ],
   "source": [
    "d.index"
   ]
  },
  {
   "cell_type": "code",
   "execution_count": 41,
   "id": "20d58f0f-e176-4c1e-a390-236c5a827ee0",
   "metadata": {},
   "outputs": [
    {
     "data": {
      "text/plain": [
       "[(0, 10),\n",
       " (1, 20),\n",
       " (2, 30),\n",
       " (3, 40),\n",
       " (4, 50),\n",
       " (5, 60),\n",
       " (6, 70),\n",
       " (7, 80),\n",
       " (8, 90),\n",
       " (9, 100),\n",
       " (34, 'istanbul'),\n",
       " (38, 'kayseri'),\n",
       " (35, 'izmir')]"
      ]
     },
     "execution_count": 41,
     "metadata": {},
     "output_type": "execute_result"
    }
   ],
   "source": [
    "list(d.items())"
   ]
  },
  {
   "cell_type": "code",
   "execution_count": 44,
   "id": "80541f41-c377-46a5-bec2-72286d129cfb",
   "metadata": {},
   "outputs": [
    {
     "data": {
      "text/plain": [
       "True"
      ]
     },
     "execution_count": 44,
     "metadata": {},
     "output_type": "execute_result"
    }
   ],
   "source": [
    "34 in d"
   ]
  },
  {
   "cell_type": "code",
   "execution_count": 48,
   "id": "8c65d0fb-c0f6-4653-82d1-000d0f24a74d",
   "metadata": {},
   "outputs": [
    {
     "data": {
      "text/plain": [
       "34    istanbul\n",
       "38     kayseri\n",
       "dtype: object"
      ]
     },
     "execution_count": 48,
     "metadata": {},
     "output_type": "execute_result"
    }
   ],
   "source": [
    "d[[34,38]]"
   ]
  },
  {
   "cell_type": "code",
   "execution_count": null,
   "id": "8fd091c1-527d-4bbe-b453-94f4488b5f92",
   "metadata": {},
   "outputs": [],
   "source": []
  },
  {
   "cell_type": "code",
   "execution_count": null,
   "id": "2583a2d4-3fee-42fa-9a12-f4680c76edf7",
   "metadata": {},
   "outputs": [],
   "source": []
  }
 ],
 "metadata": {
  "kernelspec": {
   "display_name": "Python 3 (ipykernel)",
   "language": "python",
   "name": "python3"
  },
  "language_info": {
   "codemirror_mode": {
    "name": "ipython",
    "version": 3
   },
   "file_extension": ".py",
   "mimetype": "text/x-python",
   "name": "python",
   "nbconvert_exporter": "python",
   "pygments_lexer": "ipython3",
   "version": "3.9.12"
  }
 },
 "nbformat": 4,
 "nbformat_minor": 5
}
